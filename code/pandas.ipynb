{
  "cells": [
    {
      "cell_type": "markdown",
      "id": "aUkSOCZ2RMWf",
      "metadata": {
        "id": "aUkSOCZ2RMWf"
      },
      "source": [
        "# Pandas"
      ]
    },
    {
      "cell_type": "code",
      "execution_count": 2,
      "id": "sADY9QIqXsIQ",
      "metadata": {
        "id": "sADY9QIqXsIQ"
      },
      "outputs": [],
      "source": [
        "import pandas as pd\n",
        "import numpy as np"
      ]
    },
    {
      "cell_type": "code",
      "execution_count": 3,
      "id": "0c5fed4e",
      "metadata": {},
      "outputs": [
        {
          "name": "stdout",
          "output_type": "stream",
          "text": [
            "2.0.2\n",
            "2.3.3\n"
          ]
        }
      ],
      "source": [
        "print(np.__version__)\n",
        "print(pd.__version__)"
      ]
    },
    {
      "cell_type": "code",
      "execution_count": 4,
      "id": "138b5c80",
      "metadata": {},
      "outputs": [],
      "source": [
        "root_dir = '/Volumes/data/documents/ai_document'"
      ]
    },
    {
      "cell_type": "markdown",
      "id": "1oOknlBPR0FX",
      "metadata": {
        "id": "1oOknlBPR0FX"
      },
      "source": [
        "## Series"
      ]
    },
    {
      "cell_type": "markdown",
      "id": "125f227d",
      "metadata": {},
      "source": [
        "### Dictionary"
      ]
    },
    {
      "cell_type": "code",
      "execution_count": 90,
      "id": "5ebaa187",
      "metadata": {},
      "outputs": [
        {
          "name": "stdout",
          "output_type": "stream",
          "text": [
            "data:\n",
            " a    10\n",
            "b    20\n",
            "c    30\n",
            "d    40\n",
            "e    50\n",
            "dtype: int64 \n",
            "\n"
          ]
        }
      ],
      "source": [
        "data = {\"a\":10, \"b\":20, \"c\":30, \"d\":40, \"e\":50}\n",
        "ds = pd.Series(data)\n",
        "\n",
        "print(\"data:\\n\", ds, \"\\n\")"
      ]
    },
    {
      "cell_type": "markdown",
      "id": "0df97b33",
      "metadata": {},
      "source": [
        "### List"
      ]
    },
    {
      "cell_type": "code",
      "execution_count": 89,
      "id": "NTRZJ_GjhgJK",
      "metadata": {
        "colab": {
          "base_uri": "https://localhost:8080/"
        },
        "id": "NTRZJ_GjhgJK",
        "outputId": "1f2446b2-bb3e-404c-91b3-eb89dc0ee386"
      },
      "outputs": [
        {
          "name": "stdout",
          "output_type": "stream",
          "text": [
            "data:\n",
            " 0    10\n",
            "1    20\n",
            "2    30\n",
            "3    40\n",
            "4    50\n",
            "dtype: int64 \n",
            "\n"
          ]
        }
      ],
      "source": [
        "data = [10, 20, 30, 40, 50]\n",
        "ds = pd.Series(data)\n",
        "\n",
        "print(\"data:\\n\", ds, \"\\n\")"
      ]
    },
    {
      "cell_type": "code",
      "execution_count": 91,
      "id": "46365fe6",
      "metadata": {},
      "outputs": [
        {
          "name": "stdout",
          "output_type": "stream",
          "text": [
            "data:\n",
            " a    10\n",
            "b    20\n",
            "c    30\n",
            "d    40\n",
            "e    50\n",
            "dtype: int64 \n",
            "\n"
          ]
        }
      ],
      "source": [
        "data = [10, 20, 30, 40, 50]\n",
        "ds = pd.Series(data, index=[\"a\", \"b\", \"c\", \"d\", \"e\"])\n",
        "\n",
        "print(\"data:\\n\", ds, \"\\n\")"
      ]
    },
    {
      "cell_type": "markdown",
      "id": "7fd2384d",
      "metadata": {},
      "source": [
        "### Items"
      ]
    },
    {
      "cell_type": "code",
      "execution_count": 95,
      "id": "16ee7fac",
      "metadata": {},
      "outputs": [],
      "source": [
        "data = {\"a\":10, \"b\":20, \"c\":30, \"d\":40, \"e\":50}\n",
        "ds = pd.Series(data)"
      ]
    },
    {
      "cell_type": "code",
      "execution_count": 96,
      "id": "cef9d98f",
      "metadata": {},
      "outputs": [
        {
          "name": "stdout",
          "output_type": "stream",
          "text": [
            "Index:\n",
            " Index(['a', 'b', 'c', 'd', 'e'], dtype='object') \n",
            "\n",
            "Value:\n",
            " [10 20 30 40 50] \n",
            "\n"
          ]
        }
      ],
      "source": [
        "print(\"Index:\\n\", ds.index, \"\\n\")\n",
        "print(\"Value:\\n\", ds.values, \"\\n\")"
      ]
    },
    {
      "cell_type": "code",
      "execution_count": 97,
      "id": "c2876d08",
      "metadata": {},
      "outputs": [
        {
          "name": "stdout",
          "output_type": "stream",
          "text": [
            "v1:\n",
            "10\n",
            "\n",
            "v2:\n",
            "10\n"
          ]
        }
      ],
      "source": [
        "v1 = ds[\"a\"]\n",
        "v2 = ds.a\n",
        "\n",
        "print(\"v1:\\n{}\".format(v1))\n",
        "print(\"\\nv2:\\n{}\".format(v2))"
      ]
    },
    {
      "cell_type": "code",
      "execution_count": 86,
      "id": "S1GAdPwMhmDK",
      "metadata": {
        "colab": {
          "base_uri": "https://localhost:8080/"
        },
        "collapsed": true,
        "id": "S1GAdPwMhmDK",
        "outputId": "573bc282-ac28-49d1-feb1-b1ca25c2526e"
      },
      "outputs": [
        {
          "name": "stdout",
          "output_type": "stream",
          "text": [
            "v1:\n",
            "a    10\n",
            "b    20\n",
            "dtype: int64\n",
            "\n",
            "v2:\n",
            "b    20\n",
            "c    30\n",
            "d    40\n",
            "dtype: int64\n",
            "\n",
            "v3:\n",
            "b    20\n",
            "c    30\n",
            "d    40\n",
            "dtype: int64\n",
            "\n",
            "v4:\n",
            "a    10\n",
            "dtype: int64\n"
          ]
        }
      ],
      "source": [
        "v1 = ds[['a', 'b']]\n",
        "v2 = ds[1:4]\n",
        "v3 = ds[\"b\":\"d\"]\n",
        "v4 = ds[[True, False, False, False, False]]\n",
        "\n",
        "print(\"v1:\\n{}\".format(v1))\n",
        "print(\"\\nv2:\\n{}\".format(v2))\n",
        "print(\"\\nv3:\\n{}\".format(v3))\n",
        "print(\"\\nv4:\\n{}\".format(v4))"
      ]
    },
    {
      "cell_type": "code",
      "execution_count": 87,
      "id": "tA1epOeRkyqk",
      "metadata": {
        "colab": {
          "base_uri": "https://localhost:8080/"
        },
        "id": "tA1epOeRkyqk",
        "outputId": "a51afd81-638e-4f2d-98c2-20c685be5f8f"
      },
      "outputs": [
        {
          "name": "stdout",
          "output_type": "stream",
          "text": [
            "v1:\n",
            "10\n",
            "\n",
            "v2:\n",
            "50\n",
            "\n",
            "v3:\n",
            "30.0\n",
            "\n",
            "v4:\n",
            "a    False\n",
            "b    False\n",
            "c    False\n",
            "d     True\n",
            "e     True\n",
            "dtype: bool\n",
            "\n",
            "v5:\n",
            "a     True\n",
            "b     True\n",
            "c    False\n",
            "d    False\n",
            "e    False\n",
            "dtype: bool\n"
          ]
        }
      ],
      "source": [
        "v1 = ds.min()\n",
        "v2 = ds.max()\n",
        "v3 = ds.mean()\n",
        "v4 = ds > ds.mean()\n",
        "v5 = ds < ds.mean()\n",
        "\n",
        "print(\"v1:\\n{}\".format(v1))\n",
        "print(\"\\nv2:\\n{}\".format(v2))\n",
        "print(\"\\nv3:\\n{}\".format(v3))\n",
        "print(\"\\nv4:\\n{}\".format(v4))\n",
        "print(\"\\nv5:\\n{}\".format(v5))"
      ]
    },
    {
      "cell_type": "markdown",
      "id": "YQ6BHrYlRrwY",
      "metadata": {
        "id": "YQ6BHrYlRrwY"
      },
      "source": [
        "## DataFrame"
      ]
    },
    {
      "cell_type": "code",
      "execution_count": 148,
      "id": "o_pyr06YjBEI",
      "metadata": {
        "id": "o_pyr06YjBEI"
      },
      "outputs": [],
      "source": [
        "data = {'name' : ['Ali', 'Sara', 'Morteza'],\n",
        "        'age' : [30, 20, 40],\n",
        "        'city' : ['Mashhad', 'Tehran', 'London'],\n",
        "        }\n",
        "df = pd.DataFrame(data)"
      ]
    },
    {
      "cell_type": "markdown",
      "id": "9fccb45d",
      "metadata": {},
      "source": [
        "### Part-1"
      ]
    },
    {
      "cell_type": "code",
      "execution_count": 150,
      "id": "e327d2d6",
      "metadata": {},
      "outputs": [
        {
          "name": "stdout",
          "output_type": "stream",
          "text": [
            "Data:\n",
            "       name  age     city\n",
            "0      Ali   30  Mashhad\n",
            "1     Sara   20   Tehran\n",
            "2  Morteza   40   London \n",
            "\n",
            "columns:\n",
            " Index(['name', 'age', 'city'], dtype='object') \n",
            "\n",
            "index:\n",
            " RangeIndex(start=0, stop=3, step=1) \n",
            "\n",
            "index:\n",
            " [0, 1, 2] \n",
            "\n",
            "values:\n",
            " [['Ali' 30 'Mashhad']\n",
            " ['Sara' 20 'Tehran']\n",
            " ['Morteza' 40 'London']] \n",
            "\n",
            "Shape: (3, 3)\n"
          ]
        }
      ],
      "source": [
        "print(\"Data:\\n\", df, '\\n')\n",
        "print(\"columns:\\n\", df.columns, \"\\n\")\n",
        "print(\"index:\\n\", df.index, \"\\n\")\n",
        "print(\"index:\\n\", list(df.index), \"\\n\")\n",
        "print(\"values:\\n\", df.values, \"\\n\")\n",
        "print(\"Shape: {}\".format(df.shape))"
      ]
    },
    {
      "cell_type": "code",
      "execution_count": 151,
      "id": "yiARQqnorRrl",
      "metadata": {
        "colab": {
          "base_uri": "https://localhost:8080/"
        },
        "id": "yiARQqnorRrl",
        "outputId": "8fde06ae-7e7a-442f-e6bc-9576e72b6b49"
      },
      "outputs": [
        {
          "name": "stdout",
          "output_type": "stream",
          "text": [
            "Item:\n",
            " 0        Ali\n",
            "1       Sara\n",
            "2    Morteza\n",
            "Name: name, dtype: object \n",
            "\n",
            "Item:\n",
            " 0        Ali\n",
            "1       Sara\n",
            "2    Morteza\n",
            "Name: name, dtype: object \n",
            "\n",
            "Item:\n",
            " Ali \n",
            "\n"
          ]
        }
      ],
      "source": [
        "print(\"Item:\\n\", df[\"name\"], \"\\n\")\n",
        "print(\"Item:\\n\", df.name, \"\\n\")\n",
        "print(\"Item:\\n\", df[\"name\"][0], \"\\n\")"
      ]
    },
    {
      "cell_type": "markdown",
      "id": "7e4b3d3f",
      "metadata": {},
      "source": [
        "### Part-2"
      ]
    },
    {
      "cell_type": "code",
      "execution_count": 143,
      "id": "6c0dd1a3",
      "metadata": {},
      "outputs": [
        {
          "name": "stdout",
          "output_type": "stream",
          "text": [
            "info:\n",
            "<class 'pandas.core.frame.DataFrame'>\n",
            "RangeIndex: 3 entries, 0 to 2\n",
            "Data columns (total 3 columns):\n",
            " #   Column  Non-Null Count  Dtype \n",
            "---  ------  --------------  ----- \n",
            " 0   name    3 non-null      object\n",
            " 1   age     3 non-null      int64 \n",
            " 2   city    3 non-null      object\n",
            "dtypes: int64(1), object(2)\n",
            "memory usage: 200.0+ bytes\n"
          ]
        }
      ],
      "source": [
        "print(\"info:\",)\n",
        "df.info()"
      ]
    },
    {
      "cell_type": "code",
      "execution_count": 144,
      "id": "3f36d45d",
      "metadata": {},
      "outputs": [
        {
          "name": "stdout",
          "output_type": "stream",
          "text": [
            "describe:\n",
            "         age\n",
            "count   3.0\n",
            "mean   30.0\n",
            "std    10.0\n",
            "min    20.0\n",
            "25%    25.0\n",
            "50%    30.0\n",
            "75%    35.0\n",
            "max    40.0 \n",
            "\n"
          ]
        }
      ],
      "source": [
        "print(\"describe:\\n\", df.describe(include=[\"int64\"]), \"\\n\")"
      ]
    },
    {
      "cell_type": "code",
      "execution_count": 146,
      "id": "k8eRIawgoFBF",
      "metadata": {
        "colab": {
          "base_uri": "https://localhost:8080/"
        },
        "id": "k8eRIawgoFBF",
        "outputId": "d9a297c7-dc81-4a9e-9e7e-3830ac68e781"
      },
      "outputs": [
        {
          "name": "stdout",
          "output_type": "stream",
          "text": [
            "head:\n",
            "    name  age     city\n",
            "0   Ali   30  Mashhad\n",
            "1  Sara   20   Tehran \n",
            "\n",
            "tail:\n",
            "       name  age    city\n",
            "1     Sara   20  Tehran\n",
            "2  Morteza   40  London \n",
            "\n",
            "age:\n",
            " 0    False\n",
            "1    False\n",
            "2     True\n",
            "Name: age, dtype: bool\n"
          ]
        }
      ],
      "source": [
        "print(\"head:\\n\", df.head(2), \"\\n\")\n",
        "print(\"tail:\\n\", df.tail(2), \"\\n\")\n",
        "print(\"age:\\n\", df['age'] > 30)"
      ]
    },
    {
      "cell_type": "markdown",
      "id": "a0f9f181",
      "metadata": {},
      "source": [
        "### Iloc"
      ]
    },
    {
      "cell_type": "code",
      "execution_count": 155,
      "id": "zWxhtw6zsaMp",
      "metadata": {
        "colab": {
          "base_uri": "https://localhost:8080/"
        },
        "id": "zWxhtw6zsaMp",
        "outputId": "4502d443-bfe0-4a39-ec3f-3110b614abc1"
      },
      "outputs": [
        {
          "name": "stdout",
          "output_type": "stream",
          "text": [
            "      name  age     city\n",
            "0      Ali   30  Mashhad\n",
            "1     Sara   20   Tehran\n",
            "2  Morteza   40   London \n",
            "\n",
            "Ali \n",
            "\n",
            "      name  age\n",
            "1     Sara   20\n",
            "2  Morteza   40 \n",
            "\n",
            "   name  age     city\n",
            "0   Ali   30  Mashhad\n",
            "1  Sara   20   Tehran \n",
            "\n"
          ]
        }
      ],
      "source": [
        "print(df, \"\\n\")\n",
        "print(df.iloc[0, 0], \"\\n\")\n",
        "print(df.iloc[1:, :2], \"\\n\")\n",
        "print(df.iloc[[0, 1], -3:], \"\\n\")"
      ]
    },
    {
      "cell_type": "code",
      "execution_count": 156,
      "id": "w8ZHslM7t3sI",
      "metadata": {
        "colab": {
          "base_uri": "https://localhost:8080/"
        },
        "id": "w8ZHslM7t3sI",
        "outputId": "0352f0ce-6ae5-41fc-e636-f6925e11faf7"
      },
      "outputs": [
        {
          "name": "stdout",
          "output_type": "stream",
          "text": [
            "Ali \n",
            "\n",
            "   name  age     city\n",
            "0   Ali   30  Mashhad\n",
            "1  Sara   20   Tehran \n",
            "\n",
            "   name     city\n",
            "0   Ali  Mashhad\n",
            "1  Sara   Tehran \n",
            "\n"
          ]
        }
      ],
      "source": [
        "print(df.loc[0, 'name'], \"\\n\")\n",
        "print(df.loc[0:1, \"name\":\"city\"], \"\\n\")\n",
        "print(df.loc[[0, 1], [\"name\", \"city\"]], \"\\n\")"
      ]
    },
    {
      "cell_type": "markdown",
      "id": "M-n3wVv2wYjK",
      "metadata": {
        "id": "M-n3wVv2wYjK"
      },
      "source": [
        "## CSV"
      ]
    },
    {
      "cell_type": "markdown",
      "id": "d6e76282",
      "metadata": {},
      "source": [
        "### Read"
      ]
    },
    {
      "cell_type": "code",
      "execution_count": 25,
      "id": "33WGoAZ0waXK",
      "metadata": {
        "collapsed": true,
        "id": "33WGoAZ0waXK"
      },
      "outputs": [],
      "source": [
        "dataset = pd.read_csv(f\"{root_dir}/dataset/iris_2.csv\", sep=\",\", comment=\"#\")"
      ]
    },
    {
      "cell_type": "markdown",
      "id": "76d9d575",
      "metadata": {},
      "source": [
        "### Display"
      ]
    },
    {
      "cell_type": "code",
      "execution_count": 22,
      "id": "QEZXoKVkoE2c",
      "metadata": {
        "colab": {
          "base_uri": "https://localhost:8080/"
        },
        "collapsed": true,
        "id": "QEZXoKVkoE2c",
        "outputId": "7f33331f-8c7a-4a3f-d405-fc0562540e80"
      },
      "outputs": [
        {
          "name": "stdout",
          "output_type": "stream",
          "text": [
            "   Id  SepalLengthCm  SepalWidthCm  PetalLengthCm  PetalWidthCm      Species\n",
            "0   1            5.1           3.5            1.4           0.2  Iris-setosa\n",
            "1   2            4.9           3.0            1.4           0.2  Iris-setosa\n",
            "2   3            4.7           3.2            1.3           0.2  Iris-setosa\n",
            "3   4            4.6           3.1            1.5           0.2  Iris-setosa\n",
            "4   5            5.0           3.6            1.4           0.2  Iris-setosa \n",
            "\n",
            "rows: 150, cols:6\n"
          ]
        }
      ],
      "source": [
        "print(df.head(5), '\\n')\n",
        "rows, cols = dataset.shape\n",
        "print(\"rows: {}, cols:{}\".format(rows, cols))"
      ]
    },
    {
      "cell_type": "markdown",
      "id": "a5efb303",
      "metadata": {},
      "source": [
        "### X"
      ]
    },
    {
      "cell_type": "code",
      "execution_count": 23,
      "id": "f01b4f1e",
      "metadata": {},
      "outputs": [
        {
          "name": "stdout",
          "output_type": "stream",
          "text": [
            "   SepalLengthCm  SepalWidthCm  PetalLengthCm  PetalWidthCm\n",
            "0            5.1           3.5            1.4           0.2\n",
            "1            4.9           3.0            1.4           0.2\n",
            "2            4.7           3.2            1.3           0.2\n",
            "3            4.6           3.1            1.5           0.2\n",
            "4            5.0           3.6            1.4           0.2\n"
          ]
        }
      ],
      "source": [
        "x = dataset.iloc[:, 1:5]\n",
        "print(x.head(5))"
      ]
    },
    {
      "cell_type": "markdown",
      "id": "6fca522b",
      "metadata": {},
      "source": [
        "### Y"
      ]
    },
    {
      "cell_type": "code",
      "execution_count": 24,
      "id": "93nS_jPBoH1k",
      "metadata": {
        "colab": {
          "base_uri": "https://localhost:8080/"
        },
        "collapsed": true,
        "id": "93nS_jPBoH1k",
        "outputId": "20db9e8c-e486-453f-fb7a-b57f466e702f"
      },
      "outputs": [
        {
          "name": "stdout",
          "output_type": "stream",
          "text": [
            "0    Iris-setosa\n",
            "1    Iris-setosa\n",
            "2    Iris-setosa\n",
            "3    Iris-setosa\n",
            "4    Iris-setosa\n",
            "Name: Species, dtype: object\n"
          ]
        }
      ],
      "source": [
        "y = dataset.iloc[:, 5]\n",
        "print(y.head(5))"
      ]
    },
    {
      "cell_type": "markdown",
      "id": "bf49005d",
      "metadata": {},
      "source": [
        "### dd"
      ]
    },
    {
      "cell_type": "code",
      "execution_count": null,
      "id": "a11dd835",
      "metadata": {},
      "outputs": [],
      "source": []
    }
  ],
  "metadata": {
    "colab": {
      "provenance": []
    },
    "kernelspec": {
      "display_name": ".myenv3",
      "language": "python",
      "name": "python3"
    },
    "language_info": {
      "codemirror_mode": {
        "name": "ipython",
        "version": 3
      },
      "file_extension": ".py",
      "mimetype": "text/x-python",
      "name": "python",
      "nbconvert_exporter": "python",
      "pygments_lexer": "ipython3",
      "version": "3.9.6"
    }
  },
  "nbformat": 4,
  "nbformat_minor": 5
}
