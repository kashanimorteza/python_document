{
 "cells": [
  {
   "cell_type": "markdown",
   "id": "b89e67ea-cf7e-4b4d-91d0-2665c81b3194",
   "metadata": {},
   "source": [
    "# Description\n",
    "```\n",
    "Name    : oop\n",
    "Subject : OOP\n",
    "Tag     : \n",
    "```"
   ]
  },
  {
   "cell_type": "markdown",
   "id": "17263923",
   "metadata": {},
   "source": [
    "# Class"
   ]
  },
  {
   "cell_type": "markdown",
   "id": "439106c8",
   "metadata": {},
   "source": [
    "## First"
   ]
  },
  {
   "cell_type": "code",
   "execution_count": null,
   "id": "6b382dcd",
   "metadata": {},
   "outputs": [],
   "source": [
    "#----------Class\n",
    "class Human:\n",
    "    pass\n",
    "\n",
    "#----------Instance\n",
    "person = Human()\n",
    "print(type(person))"
   ]
  },
  {
   "cell_type": "markdown",
   "id": "eb036f61",
   "metadata": {},
   "source": [
    "## Constructor"
   ]
  },
  {
   "cell_type": "markdown",
   "id": "8b35e1e6",
   "metadata": {},
   "source": [
    "#### No-Input"
   ]
  },
  {
   "cell_type": "code",
   "execution_count": null,
   "id": "852b00fc",
   "metadata": {},
   "outputs": [],
   "source": [
    "#----------Class\n",
    "class Human:\n",
    "    def __init__(self):\n",
    "        self.name = \"Ali\"\n",
    "\n",
    "#----------Instance\n",
    "person = Human()\n",
    "print(person.name)"
   ]
  },
  {
   "cell_type": "markdown",
   "id": "5938ff8b",
   "metadata": {},
   "source": [
    "#### Input = None"
   ]
  },
  {
   "cell_type": "code",
   "execution_count": null,
   "id": "fa2ddc76",
   "metadata": {},
   "outputs": [],
   "source": [
    "#----------Class\n",
    "class Human:\n",
    "    def __init__(self, name=None):\n",
    "        self.name = name\n",
    "\n",
    "#----------Instance\n",
    "person = Human()\n",
    "print(person.name)"
   ]
  },
  {
   "cell_type": "markdown",
   "id": "2efce20a",
   "metadata": {},
   "source": [
    "#### Input != None"
   ]
  },
  {
   "cell_type": "code",
   "execution_count": null,
   "id": "e2de6afc",
   "metadata": {},
   "outputs": [],
   "source": [
    "#----------Class\n",
    "class Human:\n",
    "    def __init__(self, name):\n",
    "        self.name = name\n",
    "\n",
    "#----------Instance\n",
    "person = Human(\"Reza\")\n",
    "print(person.name)"
   ]
  },
  {
   "cell_type": "markdown",
   "id": "396b120e",
   "metadata": {},
   "source": [
    "## Property"
   ]
  },
  {
   "cell_type": "markdown",
   "id": "8defda6d",
   "metadata": {},
   "source": [
    "### Ex-1"
   ]
  },
  {
   "cell_type": "code",
   "execution_count": null,
   "id": "e50fbe3e",
   "metadata": {},
   "outputs": [],
   "source": [
    "#----------Class\n",
    "class Human:\n",
    "\n",
    "    @property\n",
    "    def name(self): return self._name\n",
    "\n",
    "    @name.setter\n",
    "    def name(self, value): \n",
    "        if not value:\n",
    "            raise ValueError(\"Name cannot be empty!\")\n",
    "        self._name = value\n",
    "\n",
    "#----------Instance\n",
    "person = Human()\n",
    "person.name = 'Ali'\n",
    "name = person.name \n",
    "print(name)"
   ]
  },
  {
   "cell_type": "markdown",
   "id": "42cec9e5",
   "metadata": {},
   "source": [
    "### Ex-2"
   ]
  },
  {
   "cell_type": "code",
   "execution_count": null,
   "id": "48a0b14f",
   "metadata": {},
   "outputs": [],
   "source": [
    "#----------Class\n",
    "class Human:\n",
    "\n",
    "    @property\n",
    "    def name(self): return self._name\n",
    "\n",
    "    @name.setter\n",
    "    def name(self, value): \n",
    "        if not value:\n",
    "            raise ValueError(\"Name cannot be empty!\")\n",
    "        self._name = value\n",
    "\n",
    "#----------Instance\n",
    "person = Human()\n",
    "person.name = ''"
   ]
  },
  {
   "cell_type": "markdown",
   "id": "fafb5405",
   "metadata": {},
   "source": [
    "### Ex-3"
   ]
  },
  {
   "cell_type": "code",
   "execution_count": null,
   "id": "290c18dc",
   "metadata": {},
   "outputs": [],
   "source": [
    "#----------Class\n",
    "class Human:\n",
    "    def __init__(self, name):\n",
    "        self.name = name\n",
    "\n",
    "    @property\n",
    "    def name(self): return self._name\n",
    "\n",
    "    @name.setter\n",
    "    def name(self, value): \n",
    "        if not value:\n",
    "            raise ValueError(\"Name cannot be empty!\")\n",
    "        self._name = value\n",
    "\n",
    "#----------Instance\n",
    "person = Human(\"Ali\")\n",
    "person.name = 'Reza'\n",
    "name = person.name \n",
    "print(name)"
   ]
  },
  {
   "cell_type": "markdown",
   "id": "b3e5f9b7",
   "metadata": {},
   "source": [
    "## Variable"
   ]
  },
  {
   "cell_type": "markdown",
   "id": "c5339c6f",
   "metadata": {},
   "source": [
    "### Ex-1"
   ]
  },
  {
   "cell_type": "code",
   "execution_count": null,
   "id": "bf932d2b",
   "metadata": {},
   "outputs": [],
   "source": [
    "#----------Class\n",
    "class Human:\n",
    "    family = 'kashani'\n",
    "\n",
    "    def __init__(self, name):\n",
    "        self.name = name\n",
    "\n",
    "    def display(self):\n",
    "        print (f\"Human(name='{self.name}', family='{Human.family}')\")\n",
    "\n",
    "#----------Instance\n",
    "person_1 = Human(\"Ali\")\n",
    "person_2 = Human(\"Reza\") \n",
    "\n",
    "#----------Display\n",
    "person_1.display()\n",
    "person_2.display()"
   ]
  },
  {
   "cell_type": "markdown",
   "id": "6370d145",
   "metadata": {},
   "source": [
    "### Ex-2"
   ]
  },
  {
   "cell_type": "code",
   "execution_count": null,
   "id": "00e19a2d",
   "metadata": {},
   "outputs": [],
   "source": [
    "#----------Class\n",
    "class Human:\n",
    "    family = 'kashani'\n",
    "\n",
    "    def __init__(self, name):\n",
    "        self.name = name\n",
    "\n",
    "    def display(self):\n",
    "        print (f\"Human(name='{self.name}', family='{self.family}')\")\n",
    "\n",
    "#----------Instance\n",
    "person_1 = Human(\"Ali\")\n",
    "person_2 = Human(\"Reza\") \n",
    "\n",
    "#----------Display\n",
    "person_1.display()\n",
    "person_2.display()\n"
   ]
  },
  {
   "cell_type": "markdown",
   "id": "9efec94d",
   "metadata": {},
   "source": [
    "### Ex-3"
   ]
  },
  {
   "cell_type": "code",
   "execution_count": null,
   "id": "d026fea3",
   "metadata": {},
   "outputs": [],
   "source": [
    "#----------Class\n",
    "class Human:\n",
    "    family = 'kashani'\n",
    "\n",
    "    def __init__(self, name):\n",
    "        self.name = name\n",
    "\n",
    "    def display(self):\n",
    "        print (f\"Human(name='{self.name}', family='{self.family}')\")\n",
    "\n",
    "#----------Instance\n",
    "person_1 = Human(\"Ali\")\n",
    "person_2 = Human(\"Reza\") \n",
    "\n",
    "#----------Change class variable\n",
    "Human.family = \"Sharifi\"\n",
    "person_1.display()\n",
    "person_2.display()"
   ]
  },
  {
   "cell_type": "markdown",
   "id": "7007cbf8",
   "metadata": {},
   "source": [
    "### Ex-4"
   ]
  },
  {
   "cell_type": "code",
   "execution_count": null,
   "id": "fdff85ac",
   "metadata": {},
   "outputs": [],
   "source": [
    "#----------Class\n",
    "class Human:\n",
    "    number_of_instance = 0\n",
    "\n",
    "    def __init__(self, name):\n",
    "        self.name = name\n",
    "        Human.number_of_instance +=1\n",
    "\n",
    "#----------Instance\n",
    "person_1 = Human(\"Ali\")\n",
    "print(Human.number_of_instance)\n",
    "person_2 = Human(\"Reza\") \n",
    "print(Human.number_of_instance)\n",
    "person_2 = Human(\"Sara\") \n",
    "print(Human.number_of_instance)"
   ]
  },
  {
   "cell_type": "markdown",
   "id": "59b4df35",
   "metadata": {},
   "source": [
    "## Method"
   ]
  },
  {
   "cell_type": "markdown",
   "id": "9f642499",
   "metadata": {},
   "source": [
    "### Regular"
   ]
  },
  {
   "cell_type": "code",
   "execution_count": null,
   "id": "267f63c6",
   "metadata": {},
   "outputs": [],
   "source": [
    "#----------Class\n",
    "class Human:\n",
    "    def __init__(self, name):\n",
    "        self.name = name\n",
    "\n",
    "    def speak(self):\n",
    "        return f\"Hi, my name is {self.name}\"\n",
    "\n",
    "#----------Instance\n",
    "person = Human(\"Ali\")\n",
    "print(person.speak())"
   ]
  },
  {
   "cell_type": "markdown",
   "id": "dc0a2d7f",
   "metadata": {},
   "source": [
    "### Class"
   ]
  },
  {
   "cell_type": "code",
   "execution_count": null,
   "id": "c5ad6a4e",
   "metadata": {},
   "outputs": [],
   "source": [
    "#----------Class\n",
    "class Human:\n",
    "    number_of_instance = 0\n",
    "\n",
    "    def __init__(self, name):\n",
    "        self.name = name\n",
    "        Human.number_of_instance +=1\n",
    "\n",
    "    @classmethod\n",
    "    def noi(cls):\n",
    "        return cls.number_of_instance\n",
    "    \n",
    "#----------Instance\n",
    "person = Human(\"Ali\")\n",
    "print(Human.number_of_instance)\n",
    "\n",
    "#----------Class method\n",
    "print(person.noi())"
   ]
  },
  {
   "cell_type": "code",
   "execution_count": null,
   "id": "10047d14",
   "metadata": {},
   "outputs": [],
   "source": [
    "#----------Class\n",
    "class Human:\n",
    "    def __init__(self, name):\n",
    "        self.name = name\n",
    "\n",
    "    @classmethod\n",
    "    def gen(cls, value):\n",
    "        return cls(value)\n",
    "    \n",
    "#----------Instance\n",
    "person = Human.gen(\"Ali\")\n",
    "print(person.name)"
   ]
  },
  {
   "cell_type": "markdown",
   "id": "1d69fe4c",
   "metadata": {},
   "source": [
    "### Static"
   ]
  },
  {
   "cell_type": "code",
   "execution_count": 16,
   "id": "2cabe18d",
   "metadata": {},
   "outputs": [
    {
     "name": "stdout",
     "output_type": "stream",
     "text": [
      "my value\n"
     ]
    }
   ],
   "source": [
    "#----------Class\n",
    "class Human:\n",
    "    \n",
    "    @staticmethod\n",
    "    def display(value):\n",
    "        print(value)\n",
    "    \n",
    "#----------Instance\n",
    "Human.display('my value')"
   ]
  },
  {
   "cell_type": "markdown",
   "id": "ff921f14",
   "metadata": {},
   "source": [
    "### Magic"
   ]
  },
  {
   "cell_type": "code",
   "execution_count": null,
   "id": "61557f31",
   "metadata": {},
   "outputs": [],
   "source": [
    "#----------Class\n",
    "class Human:\n",
    "    def __init__(self, name):\n",
    "        self.name = name\n",
    "\n",
    "    def __str__(self):\n",
    "        return f\"Human(name='{self.name}')\"\n",
    "\n",
    "#----------Instance\n",
    "person = Human(\"Ali\")\n",
    "print(person)"
   ]
  }
 ],
 "metadata": {
  "kernelspec": {
   "display_name": ".myenv3",
   "language": "python",
   "name": "python3"
  },
  "language_info": {
   "codemirror_mode": {
    "name": "ipython",
    "version": 3
   },
   "file_extension": ".py",
   "mimetype": "text/x-python",
   "name": "python",
   "nbconvert_exporter": "python",
   "pygments_lexer": "ipython3",
   "version": "3.9.6"
  }
 },
 "nbformat": 4,
 "nbformat_minor": 5
}
