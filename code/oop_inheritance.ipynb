{
 "cells": [
  {
   "cell_type": "markdown",
   "id": "b89e67ea-cf7e-4b4d-91d0-2665c81b3194",
   "metadata": {},
   "source": [
    "# Description\n",
    "```\n",
    "Subject : OOP : Inheritance\n",
    "```"
   ]
  },
  {
   "cell_type": "markdown",
   "id": "a4a5efab",
   "metadata": {},
   "source": [
    "# Method resolution order "
   ]
  },
  {
   "cell_type": "code",
   "execution_count": null,
   "id": "eb5ed8fa",
   "metadata": {},
   "outputs": [],
   "source": [
    "#----------Class : Human\n",
    "class Human:\n",
    "    pass\n",
    "\n",
    "#----------Class : Man\n",
    "class Man(Human):\n",
    "    pass\n",
    "\n",
    "#----------Instance\n",
    "print(help(Man))"
   ]
  },
  {
   "cell_type": "markdown",
   "id": "995fa9eb",
   "metadata": {},
   "source": [
    "### Ex-1"
   ]
  },
  {
   "cell_type": "code",
   "execution_count": null,
   "id": "595a9776",
   "metadata": {},
   "outputs": [],
   "source": [
    "#----------Human\n",
    "class Human:\n",
    "    value = \"human : value\"\n",
    "\n",
    "#----------Man\n",
    "class Man(Human):\n",
    "    pass\n",
    "\n",
    "#----------Instance\n",
    "person = Man()\n",
    "print(person.value)"
   ]
  },
  {
   "cell_type": "markdown",
   "id": "8570660e",
   "metadata": {},
   "source": [
    "### Ex-2"
   ]
  },
  {
   "cell_type": "code",
   "execution_count": null,
   "id": "1ee70377",
   "metadata": {},
   "outputs": [],
   "source": [
    "#----------Human\n",
    "class Human:\n",
    "    def display(self):\n",
    "        print(\"human : display\")\n",
    "    \n",
    "    def run(self):\n",
    "        print(\"human : run\")\n",
    "\n",
    "#----------Man\n",
    "class Man(Human):\n",
    "    def display(self):\n",
    "        print(\"man : display\")\n",
    "\n",
    "#----------Instance\n",
    "human = Human()\n",
    "human.display()\n",
    "\n",
    "man = Man()\n",
    "man.display()\n",
    "man.run()"
   ]
  },
  {
   "cell_type": "markdown",
   "id": "c1503ad4",
   "metadata": {},
   "source": [
    "### Super"
   ]
  },
  {
   "cell_type": "code",
   "execution_count": null,
   "id": "807e741d",
   "metadata": {},
   "outputs": [],
   "source": [
    "#----------Human\n",
    "class Human:\n",
    "    def __init__(self):\n",
    "        self.dast =2\n",
    "        \n",
    "#----------Man\n",
    "class Man(Human):\n",
    "    def __init__(self):\n",
    "        super().__init__()\n",
    "\n",
    "#----------Instance\n",
    "man = Man()\n",
    "print(man.dast)"
   ]
  },
  {
   "cell_type": "code",
   "execution_count": null,
   "id": "9d7a7a9a",
   "metadata": {},
   "outputs": [],
   "source": [
    "#----------Human\n",
    "class Human:\n",
    "    def __init__(self):\n",
    "        self.dast =2\n",
    "\n",
    "#----------Man\n",
    "class Man(Human):\n",
    "    def __init__(self):\n",
    "        #super().__init__()\n",
    "        pass\n",
    "        \n",
    "#----------Instance\n",
    "man = Man()\n",
    "print(man.dast)"
   ]
  }
 ],
 "metadata": {
  "kernelspec": {
   "display_name": ".myenv3",
   "language": "python",
   "name": "python3"
  },
  "language_info": {
   "codemirror_mode": {
    "name": "ipython",
    "version": 3
   },
   "file_extension": ".py",
   "mimetype": "text/x-python",
   "name": "python",
   "nbconvert_exporter": "python",
   "pygments_lexer": "ipython3",
   "version": "3.9.6"
  }
 },
 "nbformat": 4,
 "nbformat_minor": 5
}
