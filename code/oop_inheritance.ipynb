{
 "cells": [
  {
   "cell_type": "markdown",
   "id": "b89e67ea-cf7e-4b4d-91d0-2665c81b3194",
   "metadata": {},
   "source": [
    "# Description\n",
    "```\n",
    "Subject : OOP : Inheritance\n",
    "```"
   ]
  },
  {
   "cell_type": "markdown",
   "id": "a4a5efab",
   "metadata": {},
   "source": [
    "# Method resolution order "
   ]
  },
  {
   "cell_type": "code",
   "execution_count": null,
   "id": "eb5ed8fa",
   "metadata": {},
   "outputs": [],
   "source": [
    "#----------Class : Human\n",
    "class Human:\n",
    "    pass\n",
    "\n",
    "#----------Class : Man\n",
    "class Man(Human):\n",
    "    pass\n",
    "\n",
    "#----------Instance\n",
    "print(help(Man))"
   ]
  },
  {
   "cell_type": "markdown",
   "id": "995fa9eb",
   "metadata": {},
   "source": [
    "### Ex-1"
   ]
  },
  {
   "cell_type": "code",
   "execution_count": null,
   "id": "595a9776",
   "metadata": {},
   "outputs": [],
   "source": [
    "#----------Human\n",
    "class Human:\n",
    "    value = \"human : value\"\n",
    "\n",
    "#----------Man\n",
    "class Man(Human):\n",
    "    pass\n",
    "\n",
    "#----------Instance\n",
    "person = Man()\n",
    "print(person.value)"
   ]
  },
  {
   "cell_type": "markdown",
   "id": "8570660e",
   "metadata": {},
   "source": [
    "### Ex-2"
   ]
  },
  {
   "cell_type": "code",
   "execution_count": null,
   "id": "1ee70377",
   "metadata": {},
   "outputs": [],
   "source": [
    "#----------Human\n",
    "class Human:\n",
    "    def display(self):\n",
    "        print(\"human : display\")\n",
    "    \n",
    "    def run(self):\n",
    "        print(\"human : run\")\n",
    "\n",
    "#----------Man\n",
    "class Man(Human):\n",
    "    def display(self):\n",
    "        print(\"man : display\")\n",
    "\n",
    "#----------Instance\n",
    "human = Human()\n",
    "human.display()\n",
    "\n",
    "man = Man()\n",
    "man.display()\n",
    "man.run()"
   ]
  },
  {
   "cell_type": "markdown",
   "id": "c1503ad4",
   "metadata": {},
   "source": [
    "# Super"
   ]
  },
  {
   "cell_type": "code",
   "execution_count": null,
   "id": "807e741d",
   "metadata": {},
   "outputs": [],
   "source": [
    "#----------Human\n",
    "class Human:\n",
    "    def __init__(self):\n",
    "        self.dast =2\n",
    "        \n",
    "#----------Man\n",
    "class Man(Human):\n",
    "    def __init__(self):\n",
    "        super().__init__()\n",
    "\n",
    "#----------Instance\n",
    "man = Man()\n",
    "print(man.dast)"
   ]
  },
  {
   "cell_type": "code",
   "execution_count": null,
   "id": "9d7a7a9a",
   "metadata": {},
   "outputs": [],
   "source": [
    "#----------Human\n",
    "class Human:\n",
    "    def __init__(self):\n",
    "        self.dast =2\n",
    "\n",
    "#----------Man\n",
    "class Man(Human):\n",
    "    def __init__(self):\n",
    "        #super().__init__()\n",
    "        pass\n",
    "        \n",
    "#----------Instance\n",
    "man = Man()\n",
    "print(man.dast)"
   ]
  },
  {
   "cell_type": "code",
   "execution_count": null,
   "id": "0f66dea1",
   "metadata": {},
   "outputs": [],
   "source": [
    "#----------Human\n",
    "class Human:\n",
    "    def __init__(self):\n",
    "        self.dast =2\n",
    "        \n",
    "#----------Man\n",
    "class Man(Human):\n",
    "    def __init__(self):\n",
    "        super().__init__()\n",
    "\n",
    "#----------Woman\n",
    "class Woman(Human):\n",
    "    def __init__(self, x:list=[]):\n",
    "        super().__init__()\n",
    "        self.x = x\n",
    "\n",
    "    def add_x(self, value):\n",
    "        self.x.append(value)\n",
    "\n",
    "    def remove_x(self, value):\n",
    "        self.x.remove(value)\n",
    "\n",
    "\n",
    "#----------Instance\n",
    "man = Man()\n",
    "print(man.dast)\n",
    "\n",
    "woman = Woman()\n",
    "print(man.dast)\n",
    "woman.add_x(1)\n",
    "woman.add_x(2)\n",
    "woman.add_x(3)\n",
    "woman.remove_x(1)\n",
    "print(woman.x)\n"
   ]
  },
  {
   "cell_type": "markdown",
   "id": "d8be2e5a",
   "metadata": {},
   "source": [
    "# Check Instance and class"
   ]
  },
  {
   "cell_type": "code",
   "execution_count": 83,
   "id": "084b9c59",
   "metadata": {},
   "outputs": [
    {
     "name": "stdout",
     "output_type": "stream",
     "text": [
      "True\n",
      "True\n",
      "False\n",
      "True\n",
      "False\n"
     ]
    }
   ],
   "source": [
    "#----------Human\n",
    "class Human:\n",
    "    pass\n",
    "        \n",
    "#----------Man\n",
    "class Man(Human):\n",
    "    pass\n",
    "\n",
    "#----------Woman\n",
    "class Woman(Human):\n",
    "    pass\n",
    "\n",
    "#----------Instance\n",
    "man = Man()\n",
    "woman = Woman()\n",
    "\n",
    "print(isinstance(man, Man))\n",
    "print(isinstance(man, Human))\n",
    "print(isinstance(man, Woman))\n",
    "\n",
    "print(issubclass(Man, Human))\n",
    "print(issubclass(Man, Woman))"
   ]
  }
 ],
 "metadata": {
  "kernelspec": {
   "display_name": ".myenv3",
   "language": "python",
   "name": "python3"
  },
  "language_info": {
   "codemirror_mode": {
    "name": "ipython",
    "version": 3
   },
   "file_extension": ".py",
   "mimetype": "text/x-python",
   "name": "python",
   "nbconvert_exporter": "python",
   "pygments_lexer": "ipython3",
   "version": "3.9.6"
  }
 },
 "nbformat": 4,
 "nbformat_minor": 5
}
