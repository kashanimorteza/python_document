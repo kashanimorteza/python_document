{
  "cells": [
    {
      "cell_type": "markdown",
      "id": "a05a5a6c",
      "metadata": {},
      "source": [
        "# Numpy"
      ]
    },
    {
      "cell_type": "code",
      "execution_count": 443,
      "id": "d2TQs6PJMQIh",
      "metadata": {
        "id": "d2TQs6PJMQIh"
      },
      "outputs": [],
      "source": [
        "import numpy as np"
      ]
    },
    {
      "cell_type": "code",
      "execution_count": 444,
      "id": "1fe8b199",
      "metadata": {},
      "outputs": [
        {
          "name": "stdout",
          "output_type": "stream",
          "text": [
            "2.0.2\n"
          ]
        }
      ],
      "source": [
        "print(np.__version__)"
      ]
    },
    {
      "cell_type": "markdown",
      "id": "LlVnzmL3UTvp",
      "metadata": {
        "id": "LlVnzmL3UTvp"
      },
      "source": [
        "## Type"
      ]
    },
    {
      "cell_type": "markdown",
      "id": "7bee5965",
      "metadata": {
        "id": "7bee5965"
      },
      "source": [
        "### 1D : Vector"
      ]
    },
    {
      "cell_type": "code",
      "execution_count": 376,
      "id": "579014bd-7374-4945-a6ea-9896826c1eb4",
      "metadata": {
        "colab": {
          "base_uri": "https://localhost:8080/"
        },
        "collapsed": true,
        "id": "579014bd-7374-4945-a6ea-9896826c1eb4",
        "outputId": "ab3215a8-07db-4acd-feb5-5a9cac9839e6",
        "scrolled": true
      },
      "outputs": [],
      "source": [
        "#---------- Define\n",
        "a = np.array(\n",
        "    [1, 2, 3]\n",
        ")"
      ]
    },
    {
      "cell_type": "code",
      "execution_count": 377,
      "id": "6af1e2e9",
      "metadata": {},
      "outputs": [
        {
          "name": "stdout",
          "output_type": "stream",
          "text": [
            "all elements: [1 2 3]\n"
          ]
        }
      ],
      "source": [
        "print(\"all elements:\", a)                           # Display all elements"
      ]
    },
    {
      "cell_type": "code",
      "execution_count": 378,
      "id": "74b263d3",
      "metadata": {},
      "outputs": [
        {
          "name": "stdout",
          "output_type": "stream",
          "text": [
            "First element: 1\n",
            "Last element: 3\n"
          ]
        }
      ],
      "source": [
        "print(\"First element:\", a[0])                       # First element\n",
        "print(\"Last element:\", a[-1])                       # Last element"
      ]
    },
    {
      "cell_type": "code",
      "execution_count": 379,
      "id": "3612f4a8",
      "metadata": {},
      "outputs": [
        {
          "name": "stdout",
          "output_type": "stream",
          "text": [
            "Elements from index 0 to the 2: [1 2]\n",
            "First two elements: [1 2]\n",
            "Elements from index 2 to the end: [3]\n",
            "All but the last two elements: [1]\n",
            "Last two elements: [2 3]\n"
          ]
        }
      ],
      "source": [
        "print(\"Elements from index 0 to the 2:\", a[0:2])    # Elements from index 0 to the 2\n",
        "print(\"First two elements:\", a[:2])                 # First two elements\n",
        "print(\"Elements from index 2 to the end:\", a[2:])   # Elements from index 2 to the end\n",
        "print(\"All but the last two elements:\", a[:-2])     # All but the last two elements\n",
        "print(\"Last two elements:\", a[-2:])                 # Last two elements"
      ]
    },
    {
      "cell_type": "markdown",
      "id": "f6ab7dda",
      "metadata": {
        "id": "f6ab7dda"
      },
      "source": [
        "### 2D : Matrix"
      ]
    },
    {
      "cell_type": "code",
      "execution_count": 380,
      "id": "07vOGx9e1fDQ",
      "metadata": {
        "colab": {
          "base_uri": "https://localhost:8080/"
        },
        "collapsed": true,
        "id": "07vOGx9e1fDQ",
        "outputId": "dfdcd439-8980-441e-8f76-6d0200b0720c",
        "scrolled": true
      },
      "outputs": [],
      "source": [
        "a = np.array(\n",
        "    [\n",
        "        [1, 2, 3],\n",
        "        [4, 5, 6],\n",
        "        [7, 8, 9],\n",
        "    ]\n",
        ")"
      ]
    },
    {
      "cell_type": "code",
      "execution_count": 381,
      "id": "2e1c0988",
      "metadata": {},
      "outputs": [
        {
          "name": "stdout",
          "output_type": "stream",
          "text": [
            "First row, first column: 1\n",
            "First row, first column: 1\n"
          ]
        }
      ],
      "source": [
        "print(\"First row, first column:\", a[0][0])   # First row, first column\n",
        "print(\"First row, first column:\", a[0, 0])   # First row, first column "
      ]
    },
    {
      "cell_type": "code",
      "execution_count": 382,
      "id": "9937f9b7",
      "metadata": {},
      "outputs": [
        {
          "name": "stdout",
          "output_type": "stream",
          "text": [
            "First row: [1 2 3]\n",
            "First row: [1 2 3]\n",
            "First column: [1 4 7]\n"
          ]
        }
      ],
      "source": [
        "print(\"First row:\", a[0])                    # First row\n",
        "print(\"First row:\", a[0, :])                 # First row\n",
        "print(\"First column:\", a[:, 0])              # First column"
      ]
    },
    {
      "cell_type": "markdown",
      "id": "79d34c03",
      "metadata": {
        "id": "79d34c03"
      },
      "source": [
        "### 3D : Matrix"
      ]
    },
    {
      "cell_type": "code",
      "execution_count": 383,
      "id": "4210d47b-1220-4ad5-9d0c-bf67b0a772a1",
      "metadata": {
        "colab": {
          "base_uri": "https://localhost:8080/"
        },
        "collapsed": true,
        "id": "4210d47b-1220-4ad5-9d0c-bf67b0a772a1",
        "outputId": "143c8ea5-9801-43ec-9de5-105f7d6bccae"
      },
      "outputs": [],
      "source": [
        "a = np.array(\n",
        "    [\n",
        "        [\n",
        "            [1, 2],\n",
        "            [3, 4],\n",
        "            [5, 6]\n",
        "        ],\n",
        "        [\n",
        "            [7, 8],\n",
        "            [9, 10],\n",
        "            [11, 12]\n",
        "        ],\n",
        "        [\n",
        "            [13, 14],\n",
        "            [15, 16],\n",
        "            [17, 18]\n",
        "        ],\n",
        "        [\n",
        "            [19, 20],\n",
        "            [21, 22],\n",
        "            [23, 24]\n",
        "        ]\n",
        "    ]\n",
        ")"
      ]
    },
    {
      "cell_type": "markdown",
      "id": "44ca078e",
      "metadata": {},
      "source": [
        "## Inspection"
      ]
    },
    {
      "cell_type": "code",
      "execution_count": 385,
      "id": "5bb455cc",
      "metadata": {},
      "outputs": [],
      "source": [
        "a = np.array(\n",
        "    [\n",
        "        [1, 2],\n",
        "        [3, 4],\n",
        "        [5, 6],\n",
        "    ]\n",
        ")"
      ]
    },
    {
      "cell_type": "code",
      "execution_count": 386,
      "id": "78c13770",
      "metadata": {},
      "outputs": [
        {
          "name": "stdout",
          "output_type": "stream",
          "text": [
            "shape: (3, 2)\n",
            "shape: (3, 2)\n",
            "len: 3\n",
            "dtype: int64\n",
            "item-size: 8\n",
            "size: 6\n",
            "ndim: 2\n"
          ]
        }
      ],
      "source": [
        "print(\"shape:\", a.shape)         # shape\n",
        "print(\"shape:\", np.shape(a))     # shape\n",
        "print(\"len:\", len(a))            # len\n",
        "print(\"dtype:\", a.dtype)         # dtype\n",
        "print(\"item-size:\", a.itemsize)  # item-size\n",
        "print(\"size:\", a.size)           # size\n",
        "print(\"ndim:\", a.ndim)           # ndim"
      ]
    },
    {
      "cell_type": "code",
      "execution_count": 324,
      "id": "f81e9af6",
      "metadata": {},
      "outputs": [
        {
          "name": "stdout",
          "output_type": "stream",
          "text": [
            "Max: 6\n",
            "Min: 1\n",
            "Sum: 21\n"
          ]
        }
      ],
      "source": [
        "print(\"Max:\", a.max())\n",
        "print(\"Min:\", a.min())\n",
        "print(\"Sum:\", a.sum())"
      ]
    },
    {
      "cell_type": "code",
      "execution_count": 320,
      "id": "8e679056",
      "metadata": {},
      "outputs": [
        {
          "name": "stdout",
          "output_type": "stream",
          "text": [
            "Max: [5 6]\n",
            "Max: [2 4 6]\n"
          ]
        }
      ],
      "source": [
        "print(\"Max:\", np.max(a, axis=0)) \n",
        "print(\"Max:\", np.max(a, axis=1)) "
      ]
    },
    {
      "cell_type": "code",
      "execution_count": 322,
      "id": "df536ef2",
      "metadata": {},
      "outputs": [
        {
          "name": "stdout",
          "output_type": "stream",
          "text": [
            "Min: [1 2]\n",
            "Min: [1 3 5]\n"
          ]
        }
      ],
      "source": [
        "print(\"Min:\", np.min(a, axis=0)) \n",
        "print(\"Min:\", np.min(a, axis=1)) "
      ]
    },
    {
      "cell_type": "code",
      "execution_count": 321,
      "id": "981868b9",
      "metadata": {},
      "outputs": [
        {
          "name": "stdout",
          "output_type": "stream",
          "text": [
            "Sum: [ 9 12]\n",
            "Sum: [ 3  7 11]\n"
          ]
        }
      ],
      "source": [
        "print(\"Sum:\", np.sum(a, axis=0)) \n",
        "print(\"Sum:\", np.sum(a, axis=1)) "
      ]
    },
    {
      "cell_type": "markdown",
      "id": "73c56b42",
      "metadata": {
        "id": "73c56b42"
      },
      "source": [
        "## Fill"
      ]
    },
    {
      "cell_type": "markdown",
      "id": "135a1717",
      "metadata": {
        "id": "135a1717"
      },
      "source": [
        "### zeros"
      ]
    },
    {
      "cell_type": "code",
      "execution_count": 185,
      "id": "f4b072f1",
      "metadata": {
        "colab": {
          "base_uri": "https://localhost:8080/",
          "height": 144
        },
        "id": "f4b072f1",
        "outputId": "6992649b-30e6-4acc-f86c-7e99e908e34e"
      },
      "outputs": [
        {
          "data": {
            "text/plain": [
              "array([[0., 0., 0.],\n",
              "       [0., 0., 0.],\n",
              "       [0., 0., 0.],\n",
              "       [0., 0., 0.]])"
            ]
          },
          "execution_count": 185,
          "metadata": {},
          "output_type": "execute_result"
        }
      ],
      "source": [
        "np.zeros((4, 3))"
      ]
    },
    {
      "cell_type": "markdown",
      "id": "7079dd5c",
      "metadata": {
        "id": "7079dd5c"
      },
      "source": [
        "### ones"
      ]
    },
    {
      "cell_type": "code",
      "execution_count": 186,
      "id": "2ffe8a0b",
      "metadata": {
        "id": "2ffe8a0b"
      },
      "outputs": [
        {
          "data": {
            "text/plain": [
              "array([[1., 1., 1.],\n",
              "       [1., 1., 1.],\n",
              "       [1., 1., 1.],\n",
              "       [1., 1., 1.]])"
            ]
          },
          "execution_count": 186,
          "metadata": {},
          "output_type": "execute_result"
        }
      ],
      "source": [
        "np.ones((4, 3))"
      ]
    },
    {
      "cell_type": "markdown",
      "id": "fb563ed5",
      "metadata": {
        "id": "fb563ed5"
      },
      "source": [
        "### eye"
      ]
    },
    {
      "cell_type": "code",
      "execution_count": 190,
      "id": "e129affa",
      "metadata": {
        "id": "e129affa"
      },
      "outputs": [
        {
          "data": {
            "text/plain": [
              "array([[1., 0., 0., 0., 0.],\n",
              "       [0., 1., 0., 0., 0.],\n",
              "       [0., 0., 1., 0., 0.],\n",
              "       [0., 0., 0., 1., 0.],\n",
              "       [0., 0., 0., 0., 1.]])"
            ]
          },
          "execution_count": 190,
          "metadata": {},
          "output_type": "execute_result"
        }
      ],
      "source": [
        "np.eye((5))"
      ]
    },
    {
      "cell_type": "markdown",
      "id": "152a519b",
      "metadata": {
        "id": "152a519b"
      },
      "source": [
        "### Full"
      ]
    },
    {
      "cell_type": "code",
      "execution_count": 187,
      "id": "535f9e7e",
      "metadata": {
        "id": "535f9e7e"
      },
      "outputs": [
        {
          "name": "stdout",
          "output_type": "stream",
          "text": [
            "[3 3 3 3 3]\n",
            "[[1 1 1 1]\n",
            " [1 1 1 1]\n",
            " [1 1 1 1]]\n",
            "[[2 2 2 2]\n",
            " [2 2 2 2]\n",
            " [2 2 2 2]]\n"
          ]
        }
      ],
      "source": [
        "m1 = np.full((5), 3)\n",
        "m2 = np.full((3, 4), 1)\n",
        "m3 = np.full((3, 4), 2)\n",
        "print(m1)\n",
        "print(m2)\n",
        "print(m3)"
      ]
    },
    {
      "cell_type": "markdown",
      "id": "ac45e9a1",
      "metadata": {
        "id": "ac45e9a1"
      },
      "source": [
        "### Arange"
      ]
    },
    {
      "cell_type": "code",
      "execution_count": 188,
      "id": "e92f713f",
      "metadata": {
        "id": "e92f713f"
      },
      "outputs": [
        {
          "name": "stdout",
          "output_type": "stream",
          "text": [
            "[0 1 2 3 4]\n",
            "[1 2 3 4]\n",
            "[0 2 4 6 8]\n"
          ]
        }
      ],
      "source": [
        "a = np.arange(5)\n",
        "print(a)\n",
        "a = np.arange(1, 5)\n",
        "print(a)\n",
        "a = np.arange(0, 10, 2)\n",
        "print(a)"
      ]
    },
    {
      "cell_type": "markdown",
      "id": "98d65113",
      "metadata": {
        "id": "98d65113"
      },
      "source": [
        "### Linspace"
      ]
    },
    {
      "cell_type": "code",
      "execution_count": 189,
      "id": "6259acbf",
      "metadata": {
        "id": "6259acbf"
      },
      "outputs": [
        {
          "name": "stdout",
          "output_type": "stream",
          "text": [
            "[ 1.   4.5  8.  11.5 15. ]\n"
          ]
        },
        {
          "data": {
            "text/plain": [
              "5"
            ]
          },
          "execution_count": 189,
          "metadata": {},
          "output_type": "execute_result"
        }
      ],
      "source": [
        "a = np.linspace(1, 15, 5)\n",
        "print(a)\n",
        "len(a)"
      ]
    },
    {
      "cell_type": "markdown",
      "id": "6jpOOmys4AUX",
      "metadata": {
        "id": "6jpOOmys4AUX"
      },
      "source": [
        "### Random"
      ]
    },
    {
      "cell_type": "markdown",
      "id": "yPIvw25h755N",
      "metadata": {
        "id": "yPIvw25h755N"
      },
      "source": [
        "#### rand"
      ]
    },
    {
      "cell_type": "code",
      "execution_count": 405,
      "id": "SYyz5vr44DFS",
      "metadata": {
        "colab": {
          "base_uri": "https://localhost:8080/",
          "height": 144
        },
        "id": "SYyz5vr44DFS",
        "outputId": "7d3a5b4a-303f-408b-ec0d-f1a5aea07fbe"
      },
      "outputs": [
        {
          "data": {
            "text/plain": [
              "array([0.08945811, 0.9871212 , 0.59376162, 0.23135741, 0.91579984])"
            ]
          },
          "execution_count": 405,
          "metadata": {},
          "output_type": "execute_result"
        }
      ],
      "source": [
        "np.random.rand(5)"
      ]
    },
    {
      "cell_type": "code",
      "execution_count": 406,
      "id": "_3vVpJAb4EL7",
      "metadata": {
        "id": "_3vVpJAb4EL7"
      },
      "outputs": [
        {
          "data": {
            "text/plain": [
              "array([[0.26138852, 0.47019785, 0.0450763 , 0.28942063, 0.08967719],\n",
              "       [0.36053047, 0.81420212, 0.10595459, 0.28640034, 0.11302902],\n",
              "       [0.44616221, 0.8358232 , 0.34750645, 0.49743743, 0.83003129]])"
            ]
          },
          "execution_count": 406,
          "metadata": {},
          "output_type": "execute_result"
        }
      ],
      "source": [
        "np.random.rand(3, 5)"
      ]
    },
    {
      "cell_type": "markdown",
      "id": "fN_uly7d79y8",
      "metadata": {
        "id": "fN_uly7d79y8"
      },
      "source": [
        "#### random"
      ]
    },
    {
      "cell_type": "code",
      "execution_count": 407,
      "id": "ON9_s5394EE5",
      "metadata": {
        "id": "ON9_s5394EE5"
      },
      "outputs": [
        {
          "data": {
            "text/plain": [
              "array([0.46357848, 0.68864876, 0.06689023, 0.19858741, 0.06599861])"
            ]
          },
          "execution_count": 407,
          "metadata": {},
          "output_type": "execute_result"
        }
      ],
      "source": [
        "np.random.random(5)"
      ]
    },
    {
      "cell_type": "code",
      "execution_count": 408,
      "id": "n3-SHmmd4D9s",
      "metadata": {
        "id": "n3-SHmmd4D9s"
      },
      "outputs": [
        {
          "data": {
            "text/plain": [
              "array([[0.57580035, 0.25032785, 0.08569703, 0.77820282, 0.35526316],\n",
              "       [0.6291194 , 0.08996146, 0.07056613, 0.33628603, 0.23648441],\n",
              "       [0.40577702, 0.23074832, 0.19388978, 0.60199377, 0.55938931]])"
            ]
          },
          "execution_count": 408,
          "metadata": {},
          "output_type": "execute_result"
        }
      ],
      "source": [
        "np.random.random((3,5))"
      ]
    },
    {
      "cell_type": "markdown",
      "id": "PB8x6iln8FMr",
      "metadata": {
        "id": "PB8x6iln8FMr"
      },
      "source": [
        "#### randint"
      ]
    },
    {
      "cell_type": "code",
      "execution_count": 409,
      "id": "-BxRmv3S4hm5",
      "metadata": {
        "id": "-BxRmv3S4hm5"
      },
      "outputs": [
        {
          "name": "stdout",
          "output_type": "stream",
          "text": [
            "a: 0\n",
            "b: 9\n",
            "c: [ 5 13 10]\n",
            "d: [[4 1 4]\n",
            " [4 5 7]\n",
            " [3 4 8]]\n"
          ]
        }
      ],
      "source": [
        "a = np.random.randint(10)\n",
        "b = np.random.randint(5, 15)\n",
        "c = np.random.randint(5, 15, 3)\n",
        "d = np.random.randint(0, 9, 9).reshape((3,3))\n",
        "print(\"a:\", a)\n",
        "print(\"b:\", b)\n",
        "print(\"c:\", c)\n",
        "print(\"d:\", d)"
      ]
    },
    {
      "cell_type": "markdown",
      "id": "Tt6L6SkO7uda",
      "metadata": {
        "id": "Tt6L6SkO7uda"
      },
      "source": [
        "#### shuffle"
      ]
    },
    {
      "cell_type": "code",
      "execution_count": 410,
      "id": "GfZfUjyl5HOB",
      "metadata": {
        "colab": {
          "base_uri": "https://localhost:8080/",
          "height": 162
        },
        "id": "GfZfUjyl5HOB",
        "outputId": "f083a043-76d2-4dd6-865e-dc4b96a43223"
      },
      "outputs": [
        {
          "name": "stdout",
          "output_type": "stream",
          "text": [
            "[[ 1  2  3]\n",
            " [ 4  5  6]\n",
            " [ 7  8  9]\n",
            " [10 11 12]\n",
            " [13 14 15]\n",
            " [16 17 18]\n",
            " [19 20 21]]\n"
          ]
        }
      ],
      "source": [
        "a = np.arange(1,22).reshape((7,3))\n",
        "print(a)"
      ]
    },
    {
      "cell_type": "code",
      "execution_count": 411,
      "id": "adXCI0v64hhu",
      "metadata": {
        "id": "adXCI0v64hhu"
      },
      "outputs": [
        {
          "name": "stdout",
          "output_type": "stream",
          "text": [
            "[[ 7  8  9]\n",
            " [ 1  2  3]\n",
            " [16 17 18]\n",
            " [10 11 12]\n",
            " [ 4  5  6]\n",
            " [13 14 15]\n",
            " [19 20 21]]\n"
          ]
        }
      ],
      "source": [
        "np.random.shuffle(a)\n",
        "print(a)"
      ]
    },
    {
      "cell_type": "markdown",
      "id": "wG4pZmb-70SO",
      "metadata": {
        "id": "wG4pZmb-70SO"
      },
      "source": [
        "#### normal"
      ]
    },
    {
      "cell_type": "code",
      "execution_count": 412,
      "id": "66H5lKbc4hZR",
      "metadata": {
        "id": "66H5lKbc4hZR"
      },
      "outputs": [
        {
          "data": {
            "text/plain": [
              "-0.377129389311405"
            ]
          },
          "execution_count": 412,
          "metadata": {},
          "output_type": "execute_result"
        }
      ],
      "source": [
        "np.random.normal()"
      ]
    },
    {
      "cell_type": "code",
      "execution_count": 413,
      "id": "gXqTyQ5u8y4v",
      "metadata": {
        "id": "gXqTyQ5u8y4v"
      },
      "outputs": [
        {
          "data": {
            "text/plain": [
              "array([ 2.19058653, -0.13488569, -0.46975246, -0.14268503, -2.25877621])"
            ]
          },
          "execution_count": 413,
          "metadata": {},
          "output_type": "execute_result"
        }
      ],
      "source": [
        "np.random.normal(size=5)"
      ]
    },
    {
      "cell_type": "markdown",
      "id": "ZVlO17L_8_Nm",
      "metadata": {
        "id": "ZVlO17L_8_Nm"
      },
      "source": [
        "#### uniform"
      ]
    },
    {
      "cell_type": "code",
      "execution_count": 414,
      "id": "n7Vi10g08-Oi",
      "metadata": {
        "id": "n7Vi10g08-Oi"
      },
      "outputs": [
        {
          "data": {
            "text/plain": [
              "0.2928716187063376"
            ]
          },
          "execution_count": 414,
          "metadata": {},
          "output_type": "execute_result"
        }
      ],
      "source": [
        "np.random.uniform()"
      ]
    },
    {
      "cell_type": "code",
      "execution_count": 415,
      "id": "y1ZBfdS-8-Ju",
      "metadata": {
        "colab": {
          "base_uri": "https://localhost:8080/",
          "height": 144
        },
        "id": "y1ZBfdS-8-Ju",
        "outputId": "72fb0e62-1a3d-46aa-b803-6630f9405035"
      },
      "outputs": [
        {
          "data": {
            "text/plain": [
              "array([0.15389768, 0.18587143, 0.49070584, 0.88434281, 0.08788924])"
            ]
          },
          "execution_count": 415,
          "metadata": {},
          "output_type": "execute_result"
        }
      ],
      "source": [
        "np.random.uniform(size=5)"
      ]
    },
    {
      "cell_type": "markdown",
      "id": "BynvKoCJ897z",
      "metadata": {
        "id": "BynvKoCJ897z"
      },
      "source": []
    },
    {
      "cell_type": "markdown",
      "id": "7cRxH-969wCT",
      "metadata": {
        "id": "7cRxH-969wCT"
      },
      "source": [
        "#### choice"
      ]
    },
    {
      "cell_type": "code",
      "execution_count": 416,
      "id": "zgBUHqaT9ztM",
      "metadata": {
        "id": "zgBUHqaT9ztM"
      },
      "outputs": [],
      "source": [
        "a = [1, 2, 3, 4, 5, 6, 7, 8, 9]"
      ]
    },
    {
      "cell_type": "code",
      "execution_count": 417,
      "id": "wP284_gu-lrn",
      "metadata": {
        "id": "wP284_gu-lrn"
      },
      "outputs": [
        {
          "name": "stdout",
          "output_type": "stream",
          "text": [
            "7\n"
          ]
        }
      ],
      "source": [
        "print(np.random.choice(a))"
      ]
    },
    {
      "cell_type": "code",
      "execution_count": 418,
      "id": "RfKeBxps-loz",
      "metadata": {
        "id": "RfKeBxps-loz"
      },
      "outputs": [
        {
          "name": "stdout",
          "output_type": "stream",
          "text": [
            "[1 2]\n"
          ]
        }
      ],
      "source": [
        "print(np.random.choice(a, size=2))"
      ]
    },
    {
      "cell_type": "code",
      "execution_count": 419,
      "id": "P2WdtB2J-lkm",
      "metadata": {
        "id": "P2WdtB2J-lkm"
      },
      "outputs": [
        {
          "name": "stdout",
          "output_type": "stream",
          "text": [
            "[[5 6 5]\n",
            " [6 9 7]\n",
            " [9 3 3]]\n"
          ]
        }
      ],
      "source": [
        "print(np.random.choice(a, size=(3, 3)))"
      ]
    },
    {
      "cell_type": "code",
      "execution_count": null,
      "id": "8-h2RitM-lSJ",
      "metadata": {
        "id": "8-h2RitM-lSJ"
      },
      "outputs": [],
      "source": []
    },
    {
      "cell_type": "code",
      "execution_count": null,
      "id": "wTLghG1IsdCb",
      "metadata": {
        "colab": {
          "base_uri": "https://localhost:8080/"
        },
        "id": "wTLghG1IsdCb",
        "outputId": "6448cd8f-260b-4124-b1ec-2d0068466be3"
      },
      "outputs": [],
      "source": [
        "\n"
      ]
    },
    {
      "cell_type": "code",
      "execution_count": null,
      "id": "GdTOtPFvsc1P",
      "metadata": {
        "colab": {
          "base_uri": "https://localhost:8080/"
        },
        "id": "GdTOtPFvsc1P",
        "outputId": "d10eb638-27d0-4535-98a9-56300ec7f3eb"
      },
      "outputs": [],
      "source": []
    },
    {
      "cell_type": "markdown",
      "id": "OB4wwNUOyUdD",
      "metadata": {
        "id": "OB4wwNUOyUdD"
      },
      "source": [
        "## Where"
      ]
    },
    {
      "cell_type": "code",
      "execution_count": null,
      "id": "8RMHZmrhwMfC",
      "metadata": {
        "id": "8RMHZmrhwMfC"
      },
      "outputs": [],
      "source": [
        "a = np.array(\n",
        "    [\n",
        "      [ 1,  2,  3,  4, 5],\n",
        "      [ 6,  7,  8,  9, 10],\n",
        "      [ 11, 12, 13, 14, 15]\n",
        "    ]\n",
        ")"
      ]
    },
    {
      "cell_type": "code",
      "execution_count": null,
      "id": "NYBIFEoTyan7",
      "metadata": {
        "colab": {
          "base_uri": "https://localhost:8080/"
        },
        "id": "NYBIFEoTyan7",
        "outputId": "8a58f3f5-77b3-4979-8a07-557b52dbf1cc"
      },
      "outputs": [
        {
          "name": "stdout",
          "output_type": "stream",
          "text": [
            "1\n"
          ]
        }
      ],
      "source": [
        "print(np.sum(a>14))"
      ]
    },
    {
      "cell_type": "code",
      "execution_count": null,
      "id": "a8d6UMXJyadW",
      "metadata": {
        "colab": {
          "base_uri": "https://localhost:8080/"
        },
        "id": "a8d6UMXJyadW",
        "outputId": "9c774227-d767-4854-88dc-126cbaaa2f06"
      },
      "outputs": [
        {
          "data": {
            "text/plain": [
              "array([[0, 0, 0, 0, 0],\n",
              "       [0, 0, 0, 0, 0],\n",
              "       [0, 0, 0, 0, 1]])"
            ]
          },
          "execution_count": 266,
          "metadata": {},
          "output_type": "execute_result"
        }
      ],
      "source": [
        "np.where(a>14, 1, 0)"
      ]
    },
    {
      "cell_type": "code",
      "execution_count": null,
      "id": "3jmsSr69Oj0R",
      "metadata": {
        "colab": {
          "base_uri": "https://localhost:8080/"
        },
        "id": "3jmsSr69Oj0R",
        "outputId": "422edd36-6612-4dc8-f5cb-0bfe3fb185a3"
      },
      "outputs": [
        {
          "name": "stdout",
          "output_type": "stream",
          "text": [
            "[[2 2 2 2 2]\n",
            " [2 2 2 2 2]\n",
            " [2 2 2 2 2]\n",
            " [2 2 2 2 2]]\n"
          ]
        }
      ],
      "source": [
        "r = m1*m2\n",
        "print(r)"
      ]
    },
    {
      "cell_type": "code",
      "execution_count": null,
      "id": "UAJQlxVXMmsW",
      "metadata": {
        "colab": {
          "base_uri": "https://localhost:8080/"
        },
        "collapsed": true,
        "id": "UAJQlxVXMmsW",
        "outputId": "f5ca41d6-458f-4cd6-c403-fff87a5143fa"
      },
      "outputs": [
        {
          "name": "stdout",
          "output_type": "stream",
          "text": [
            "[[10 10 10 10]\n",
            " [10 10 10 10]\n",
            " [10 10 10 10]\n",
            " [10 10 10 10]]\n"
          ]
        }
      ],
      "source": [
        "r = m1 @ m2.T  # Transpose m2\n",
        "print(r)"
      ]
    },
    {
      "cell_type": "code",
      "execution_count": null,
      "id": "uGMT-ADEOSRt",
      "metadata": {
        "colab": {
          "base_uri": "https://localhost:8080/"
        },
        "collapsed": true,
        "id": "uGMT-ADEOSRt",
        "outputId": "1bbf3188-7bad-4430-a558-cdc9bc432adb"
      },
      "outputs": [
        {
          "name": "stdout",
          "output_type": "stream",
          "text": [
            "[[10 10 10 10]\n",
            " [10 10 10 10]\n",
            " [10 10 10 10]\n",
            " [10 10 10 10]]\n"
          ]
        }
      ],
      "source": [
        "r = m1.dot(m2.T)  # Transpose m2\n",
        "print(r)"
      ]
    },
    {
      "cell_type": "markdown",
      "id": "8e3216d7",
      "metadata": {},
      "source": [
        "## File"
      ]
    },
    {
      "cell_type": "markdown",
      "id": "9c325f55",
      "metadata": {},
      "source": [
        "### Save & Load : Single"
      ]
    },
    {
      "cell_type": "code",
      "execution_count": 216,
      "id": "edcf33c2",
      "metadata": {},
      "outputs": [
        {
          "name": "stdout",
          "output_type": "stream",
          "text": [
            "[[0. 0. 0.]\n",
            " [0. 0. 0.]\n",
            " [0. 0. 0.]\n",
            " [0. 0. 0.]]\n"
          ]
        }
      ],
      "source": [
        "#---Save\n",
        "a = np.zeros((4, 3))\n",
        "np.save('my_array.npy', a)\n",
        "\n",
        "#---Load\n",
        "input = np.load('my_array.npy')\n",
        "print(input)"
      ]
    },
    {
      "cell_type": "markdown",
      "id": "1d882a3d",
      "metadata": {},
      "source": [
        "### Save & Load : Multiple"
      ]
    },
    {
      "cell_type": "code",
      "execution_count": 217,
      "id": "b12214a7",
      "metadata": {},
      "outputs": [
        {
          "name": "stdout",
          "output_type": "stream",
          "text": [
            "[[0. 0. 0.]\n",
            " [0. 0. 0.]\n",
            " [0. 0. 0.]\n",
            " [0. 0. 0.]]\n",
            "[[1. 1. 1.]\n",
            " [1. 1. 1.]\n",
            " [1. 1. 1.]\n",
            " [1. 1. 1.]]\n"
          ]
        }
      ],
      "source": [
        "#---Save\n",
        "a = np.zeros((4, 3))\n",
        "b = np.ones((4, 3))\n",
        "np.savez('my_arrays.npz', a, b)\n",
        "\n",
        "#---Multiple\n",
        "input = np.load('my_arrays.npz')\n",
        "a = input[\"arr_0\"]\n",
        "b = input[\"arr_1\"]\n",
        "print(a)\n",
        "print(b)\n"
      ]
    },
    {
      "cell_type": "markdown",
      "id": "699a1d74",
      "metadata": {},
      "source": [
        "## Math"
      ]
    },
    {
      "cell_type": "code",
      "execution_count": 387,
      "id": "c939e1cf",
      "metadata": {},
      "outputs": [],
      "source": [
        "a = np.array(\n",
        "    [\n",
        "        [1, 2],\n",
        "        [3, 4]\n",
        "    ]\n",
        ")\n",
        "b = np.array(\n",
        "    [\n",
        "        [5, 6],\n",
        "        [7, 8]\n",
        "    ]\n",
        ")"
      ]
    },
    {
      "cell_type": "markdown",
      "id": "0a180e11",
      "metadata": {},
      "source": [
        "### Action"
      ]
    },
    {
      "cell_type": "code",
      "execution_count": 261,
      "id": "8ab2fade",
      "metadata": {},
      "outputs": [
        {
          "name": "stdout",
          "output_type": "stream",
          "text": [
            "[[ 6  8]\n",
            " [10 12]]\n"
          ]
        }
      ],
      "source": [
        "print(a + b)"
      ]
    },
    {
      "cell_type": "code",
      "execution_count": 262,
      "id": "298da4f7",
      "metadata": {},
      "outputs": [
        {
          "name": "stdout",
          "output_type": "stream",
          "text": [
            "[[-4 -4]\n",
            " [-4 -4]]\n"
          ]
        }
      ],
      "source": [
        "print(a - b)"
      ]
    },
    {
      "cell_type": "code",
      "execution_count": 234,
      "id": "5237d417",
      "metadata": {},
      "outputs": [
        {
          "name": "stdout",
          "output_type": "stream",
          "text": [
            "[[ 5 12]\n",
            " [21 32]]\n"
          ]
        }
      ],
      "source": [
        "print(a * b)"
      ]
    },
    {
      "cell_type": "code",
      "execution_count": 263,
      "id": "801714c7",
      "metadata": {},
      "outputs": [
        {
          "name": "stdout",
          "output_type": "stream",
          "text": [
            "[[0.2        0.33333333]\n",
            " [0.42857143 0.5       ]]\n"
          ]
        }
      ],
      "source": [
        "print(a / b)"
      ]
    },
    {
      "cell_type": "code",
      "execution_count": 300,
      "id": "d01c5431",
      "metadata": {},
      "outputs": [
        {
          "name": "stdout",
          "output_type": "stream",
          "text": [
            "[[False False]\n",
            " [False False]]\n"
          ]
        }
      ],
      "source": [
        "print(a == b)"
      ]
    },
    {
      "cell_type": "code",
      "execution_count": 301,
      "id": "d0892268",
      "metadata": {},
      "outputs": [
        {
          "name": "stdout",
          "output_type": "stream",
          "text": [
            "False\n"
          ]
        }
      ],
      "source": [
        "print(np.array_equal(a, b))"
      ]
    },
    {
      "cell_type": "markdown",
      "id": "ba606e4d",
      "metadata": {},
      "source": [
        "### Methods"
      ]
    },
    {
      "cell_type": "code",
      "execution_count": 276,
      "id": "46ecc323",
      "metadata": {},
      "outputs": [
        {
          "name": "stdout",
          "output_type": "stream",
          "text": [
            "[[-4 -4]\n",
            " [-4 -4]]\n"
          ]
        }
      ],
      "source": [
        "print(np.subtract(a, b))"
      ]
    },
    {
      "cell_type": "code",
      "execution_count": 277,
      "id": "ce71c9e1",
      "metadata": {},
      "outputs": [
        {
          "name": "stdout",
          "output_type": "stream",
          "text": [
            "[[ 6  8]\n",
            " [10 12]]\n"
          ]
        }
      ],
      "source": [
        "print(np.add(a, b)) "
      ]
    },
    {
      "cell_type": "code",
      "execution_count": 278,
      "id": "9e03d8dd",
      "metadata": {},
      "outputs": [
        {
          "name": "stdout",
          "output_type": "stream",
          "text": [
            "[[0.2        0.33333333]\n",
            " [0.42857143 0.5       ]]\n"
          ]
        }
      ],
      "source": [
        "print(np.divide(a, b)) "
      ]
    },
    {
      "cell_type": "code",
      "execution_count": 281,
      "id": "c17173b0",
      "metadata": {},
      "outputs": [
        {
          "name": "stdout",
          "output_type": "stream",
          "text": [
            "[[ 2.71828183  7.3890561 ]\n",
            " [20.08553692 54.59815003]]\n"
          ]
        }
      ],
      "source": [
        "print(np.exp(a))"
      ]
    },
    {
      "cell_type": "code",
      "execution_count": 282,
      "id": "272481cf",
      "metadata": {},
      "outputs": [
        {
          "name": "stdout",
          "output_type": "stream",
          "text": [
            "[[1.         1.41421356]\n",
            " [1.73205081 2.        ]]\n"
          ]
        }
      ],
      "source": [
        "print(np.sqrt(a))"
      ]
    },
    {
      "cell_type": "code",
      "execution_count": 283,
      "id": "d5f0f508",
      "metadata": {},
      "outputs": [
        {
          "name": "stdout",
          "output_type": "stream",
          "text": [
            "[[ 0.84147098  0.90929743]\n",
            " [ 0.14112001 -0.7568025 ]]\n"
          ]
        }
      ],
      "source": [
        "print(np.sin(a))"
      ]
    },
    {
      "cell_type": "code",
      "execution_count": 284,
      "id": "a6346ba6",
      "metadata": {},
      "outputs": [
        {
          "name": "stdout",
          "output_type": "stream",
          "text": [
            "[[ 0.54030231 -0.41614684]\n",
            " [-0.9899925  -0.65364362]]\n"
          ]
        }
      ],
      "source": [
        "print(np.cos(a))"
      ]
    },
    {
      "cell_type": "code",
      "execution_count": 285,
      "id": "271a65f3",
      "metadata": {},
      "outputs": [
        {
          "name": "stdout",
          "output_type": "stream",
          "text": [
            "[[ 1.55740772 -2.18503986]\n",
            " [-0.14254654  1.15782128]]\n"
          ]
        }
      ],
      "source": [
        "print(np.tan(a))"
      ]
    },
    {
      "cell_type": "code",
      "execution_count": 286,
      "id": "a1a7e398",
      "metadata": {},
      "outputs": [
        {
          "name": "stdout",
          "output_type": "stream",
          "text": [
            "[[0.         0.69314718]\n",
            " [1.09861229 1.38629436]]\n"
          ]
        }
      ],
      "source": [
        "print(np.log(a))"
      ]
    },
    {
      "cell_type": "code",
      "execution_count": 289,
      "id": "ade12445",
      "metadata": {},
      "outputs": [
        {
          "name": "stdout",
          "output_type": "stream",
          "text": [
            "[[ 5 12]\n",
            " [21 32]]\n"
          ]
        }
      ],
      "source": [
        "print(np.multiply(a, b))"
      ]
    },
    {
      "cell_type": "markdown",
      "id": "763d12f3",
      "metadata": {},
      "source": [
        "### Matrix Multiplication"
      ]
    },
    {
      "cell_type": "code",
      "execution_count": 298,
      "id": "1a525cd0",
      "metadata": {},
      "outputs": [
        {
          "name": "stdout",
          "output_type": "stream",
          "text": [
            "[[19 22]\n",
            " [43 50]]\n",
            "[[19 22]\n",
            " [43 50]]\n"
          ]
        }
      ],
      "source": [
        "print(np.matmul(a, b))\n",
        "print(a@b)"
      ]
    },
    {
      "cell_type": "markdown",
      "id": "2078af89",
      "metadata": {},
      "source": [
        "## Methods"
      ]
    },
    {
      "cell_type": "markdown",
      "id": "cc55b4a6",
      "metadata": {},
      "source": [
        "### Reshape"
      ]
    },
    {
      "cell_type": "code",
      "execution_count": 425,
      "id": "bc5caad5",
      "metadata": {},
      "outputs": [],
      "source": [
        "a = np.array(\n",
        "    [ 1,  2,  3,  4, 5, 6, 7, 8, 9, 10]\n",
        ")"
      ]
    },
    {
      "cell_type": "code",
      "execution_count": 426,
      "id": "fc67fca4",
      "metadata": {},
      "outputs": [
        {
          "name": "stdout",
          "output_type": "stream",
          "text": [
            "[[ 1  2]\n",
            " [ 3  4]\n",
            " [ 5  6]\n",
            " [ 7  8]\n",
            " [ 9 10]]\n"
          ]
        }
      ],
      "source": [
        "b = a.reshape(5,2)\n",
        "print(b)"
      ]
    },
    {
      "cell_type": "code",
      "execution_count": 427,
      "id": "cc5680ce",
      "metadata": {},
      "outputs": [
        {
          "name": "stdout",
          "output_type": "stream",
          "text": [
            "[[ 1  2]\n",
            " [ 3  4]\n",
            " [ 5  6]\n",
            " [ 7  8]\n",
            " [ 9 10]]\n"
          ]
        }
      ],
      "source": [
        "b = a.reshape(-1,2)\n",
        "print(b)"
      ]
    },
    {
      "cell_type": "code",
      "execution_count": 428,
      "id": "b76f6d7b",
      "metadata": {},
      "outputs": [
        {
          "name": "stdout",
          "output_type": "stream",
          "text": [
            "[[ 1  2  3  4  5]\n",
            " [ 6  7  8  9 10]]\n"
          ]
        }
      ],
      "source": [
        "b = a.reshape(2,-1)\n",
        "print(b)"
      ]
    },
    {
      "cell_type": "code",
      "execution_count": 429,
      "id": "3ab9486e",
      "metadata": {},
      "outputs": [
        {
          "name": "stdout",
          "output_type": "stream",
          "text": [
            "[[ 1  2  3  4  5  6  7  8  9 10]]\n"
          ]
        }
      ],
      "source": [
        "b = a.reshape(1,-1)\n",
        "print(b)"
      ]
    },
    {
      "cell_type": "code",
      "execution_count": 431,
      "id": "7e5d9820",
      "metadata": {},
      "outputs": [
        {
          "name": "stdout",
          "output_type": "stream",
          "text": [
            "[[ 1]\n",
            " [ 2]\n",
            " [ 3]\n",
            " [ 4]\n",
            " [ 5]\n",
            " [ 6]\n",
            " [ 7]\n",
            " [ 8]\n",
            " [ 9]\n",
            " [10]]\n"
          ]
        }
      ],
      "source": [
        "b = a.reshape(-1,1)\n",
        "print(b)"
      ]
    },
    {
      "cell_type": "markdown",
      "id": "b2653848",
      "metadata": {},
      "source": [
        "### Concat"
      ]
    },
    {
      "cell_type": "code",
      "execution_count": 433,
      "id": "25e336eb",
      "metadata": {},
      "outputs": [
        {
          "name": "stdout",
          "output_type": "stream",
          "text": [
            "[1 2 3 4 5 6 7 8]\n"
          ]
        }
      ],
      "source": [
        "a = np.array(\n",
        "    [ 1,  2,  3,  4]\n",
        ")\n",
        "b = np.array(\n",
        "    [ 5, 6, 7, 8]\n",
        ")\n",
        "c = np.concatenate((a, b))\n",
        "print(c)"
      ]
    },
    {
      "cell_type": "code",
      "execution_count": null,
      "id": "b299f1e7",
      "metadata": {},
      "outputs": [
        {
          "name": "stdout",
          "output_type": "stream",
          "text": [
            "[[1 2]\n",
            " [3 4]\n",
            " [5 6]\n",
            " [7 8]]\n",
            "[[1 2 5 6]\n",
            " [3 4 7 8]]\n"
          ]
        }
      ],
      "source": [
        "a = np.array(\n",
        "    [\n",
        "        [1, 2],\n",
        "        [3, 4],\n",
        "    ]\n",
        ")\n",
        "b = np.array(\n",
        "    [\n",
        "        [5, 6],\n",
        "        [7, 8],\n",
        "    ]\n",
        ")\n",
        "\n"
      ]
    },
    {
      "cell_type": "code",
      "execution_count": 436,
      "id": "50c816c6",
      "metadata": {},
      "outputs": [
        {
          "name": "stdout",
          "output_type": "stream",
          "text": [
            "[[1 2]\n",
            " [3 4]\n",
            " [5 6]\n",
            " [7 8]]\n"
          ]
        }
      ],
      "source": [
        "c = np.concatenate((a, b), axis=0)\n",
        "print(c)"
      ]
    },
    {
      "cell_type": "code",
      "execution_count": 438,
      "id": "a1c516db",
      "metadata": {},
      "outputs": [
        {
          "name": "stdout",
          "output_type": "stream",
          "text": [
            "[[1 2]\n",
            " [3 4]\n",
            " [5 6]\n",
            " [7 8]]\n"
          ]
        }
      ],
      "source": [
        "c = np.vstack((a, b))\n",
        "print(c)"
      ]
    },
    {
      "cell_type": "code",
      "execution_count": 439,
      "id": "10605ca1",
      "metadata": {},
      "outputs": [
        {
          "name": "stdout",
          "output_type": "stream",
          "text": [
            "[[1 2 5 6]\n",
            " [3 4 7 8]]\n"
          ]
        }
      ],
      "source": [
        "c = np.concatenate((a, b), axis=1)\n",
        "print(c)"
      ]
    },
    {
      "cell_type": "code",
      "execution_count": 440,
      "id": "7a5df2da",
      "metadata": {},
      "outputs": [
        {
          "name": "stdout",
          "output_type": "stream",
          "text": [
            "[[1 2 5 6]\n",
            " [3 4 7 8]]\n"
          ]
        }
      ],
      "source": [
        "c = np.hstack((a, b))\n",
        "print(c)"
      ]
    },
    {
      "cell_type": "markdown",
      "id": "91c86663",
      "metadata": {},
      "source": [
        "### Copy"
      ]
    },
    {
      "cell_type": "code",
      "execution_count": 329,
      "id": "beca92ad",
      "metadata": {},
      "outputs": [
        {
          "name": "stdout",
          "output_type": "stream",
          "text": [
            "[[1 2]\n",
            " [3 4]]\n",
            "[[1 2]\n",
            " [3 4]]\n",
            "[[10 10]\n",
            " [ 3  4]]\n"
          ]
        }
      ],
      "source": [
        "a = np.array(\n",
        "    [\n",
        "        [1, 2],\n",
        "        [3, 4]\n",
        "    ]\n",
        ")\n",
        "\n",
        "b = np.copy(a)\n",
        "print(b)\n",
        "\n",
        "b[0] = 10 \n",
        "print(a)\n",
        "print(b)"
      ]
    },
    {
      "cell_type": "markdown",
      "id": "3e3a6e21",
      "metadata": {},
      "source": [
        "### Sort"
      ]
    },
    {
      "cell_type": "code",
      "execution_count": 343,
      "id": "7f874019",
      "metadata": {},
      "outputs": [
        {
          "name": "stdout",
          "output_type": "stream",
          "text": [
            "Array :\n",
            "[1 7 2 6 5 3]\n",
            "lower_sort :\n",
            "[1 2 3 5 6 7]\n",
            "upper_sort  :\n",
            "[7 6 5 3 2 1]\n"
          ]
        }
      ],
      "source": [
        "a = np.array([1, 7, 2, 6, 5, 3])\n",
        "print(\"Array :\\n{}\".format(a))\n",
        "print(\"lower_sort :\\n{}\".format(np.sort(a))) \n",
        "print(\"upper_sort  :\\n{}\".format(np.sort(a)[::-1]))"
      ]
    },
    {
      "cell_type": "code",
      "execution_count": 351,
      "id": "136ae7b7",
      "metadata": {},
      "outputs": [
        {
          "name": "stdout",
          "output_type": "stream",
          "text": [
            "Array :\n",
            "[[1 7 2 6 5 3]\n",
            " [2 3 1 4 9 8]]\n",
            "column_sort :\n",
            "[[1 3 1 4 5 3]\n",
            " [2 7 2 6 9 8]]\n",
            "row_sort :\n",
            "[[1 2 3 5 6 7]\n",
            " [1 2 3 4 8 9]]\n"
          ]
        }
      ],
      "source": [
        "a = np.array(\n",
        "    [\n",
        "        [1, 7, 2, 6, 5, 3],\n",
        "        [2, 3, 1, 4, 9, 8 ]\n",
        "    ]\n",
        ")\n",
        "print(\"Array :\\n{}\".format(a))\n",
        "print(\"column_sort :\\n{}\".format(np.sort(a, axis=0))) \n",
        "print(\"row_sort :\\n{}\".format(np.sort(a, axis=1))) "
      ]
    },
    {
      "cell_type": "markdown",
      "id": "6c928e3e",
      "metadata": {},
      "source": [
        "### Reverse"
      ]
    },
    {
      "cell_type": "code",
      "execution_count": 394,
      "id": "e45d2e79",
      "metadata": {},
      "outputs": [
        {
          "name": "stdout",
          "output_type": "stream",
          "text": [
            "[3 5 6 2 7 1]\n"
          ]
        }
      ],
      "source": [
        "a = np.array([1, 7, 2, 6, 5, 3])\n",
        "b = a[::-1]\n",
        "print(b)"
      ]
    },
    {
      "cell_type": "code",
      "execution_count": 398,
      "id": "b8820ccc",
      "metadata": {},
      "outputs": [
        {
          "name": "stdout",
          "output_type": "stream",
          "text": [
            "Array :\n",
            "[[1 7 2 6 5 6]\n",
            " [2 3 1 4 9 7]\n",
            " [3 3 1 4 9 8]]\n",
            "Reverse :\n",
            "[[3 3 1 4 9 8]\n",
            " [2 3 1 4 9 7]\n",
            " [1 7 2 6 5 6]]\n"
          ]
        }
      ],
      "source": [
        "a = np.array(\n",
        "    [\n",
        "        [1, 7, 2, 6, 5, 6],\n",
        "        [2, 3, 1, 4, 9, 7 ],\n",
        "        [3, 3, 1, 4, 9, 8 ]\n",
        "    ]\n",
        ")\n",
        "print(\"Array :\\n{}\".format(a))\n",
        "print(\"Reverse :\\n{}\".format(a[::-1]))"
      ]
    },
    {
      "cell_type": "markdown",
      "id": "cbf1a78d",
      "metadata": {},
      "source": [
        "### Transpose"
      ]
    },
    {
      "cell_type": "code",
      "execution_count": 401,
      "id": "984926a5",
      "metadata": {},
      "outputs": [
        {
          "name": "stdout",
          "output_type": "stream",
          "text": [
            "Array :\n",
            "[[1 7 2 6 5 6]\n",
            " [2 3 1 4 9 7]\n",
            " [3 3 1 4 9 8]]\n",
            "Transpose :\n",
            "[[1 2 3]\n",
            " [7 3 3]\n",
            " [2 1 1]\n",
            " [6 4 4]\n",
            " [5 9 9]\n",
            " [6 7 8]]\n",
            "Transpose :\n",
            "[[1 2 3]\n",
            " [7 3 3]\n",
            " [2 1 1]\n",
            " [6 4 4]\n",
            " [5 9 9]\n",
            " [6 7 8]]\n"
          ]
        }
      ],
      "source": [
        "a = np.array(\n",
        "    [\n",
        "        [1, 7, 2, 6, 5, 6],\n",
        "        [2, 3, 1, 4, 9, 7 ],\n",
        "        [3, 3, 1, 4, 9, 8 ]\n",
        "    ]\n",
        ")\n",
        "print(\"Array :\\n{}\".format(a))\n",
        "print(\"Transpose :\\n{}\".format(np.transpose(a)))\n",
        "print(\"Transpose :\\n{}\".format(a.T))"
      ]
    }
  ],
  "metadata": {
    "colab": {
      "collapsed_sections": [
        "F5cAOsuasQ4M"
      ],
      "provenance": [],
      "toc_visible": true
    },
    "kernelspec": {
      "display_name": ".myenv3",
      "language": "python",
      "name": "python3"
    },
    "language_info": {
      "codemirror_mode": {
        "name": "ipython",
        "version": 3
      },
      "file_extension": ".py",
      "mimetype": "text/x-python",
      "name": "python",
      "nbconvert_exporter": "python",
      "pygments_lexer": "ipython3",
      "version": "3.9.6"
    }
  },
  "nbformat": 4,
  "nbformat_minor": 5
}
