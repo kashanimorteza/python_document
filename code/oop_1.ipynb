{
 "cells": [
  {
   "cell_type": "markdown",
   "id": "b89e67ea-cf7e-4b4d-91d0-2665c81b3194",
   "metadata": {},
   "source": [
    "# Description\n",
    "```\n",
    "Name    : oop_1\n",
    "Subject : OOP\n",
    "Tag     : \n",
    "```"
   ]
  },
  {
   "cell_type": "markdown",
   "id": "17263923",
   "metadata": {},
   "source": [
    "# Class"
   ]
  },
  {
   "cell_type": "markdown",
   "id": "439106c8",
   "metadata": {},
   "source": [
    "## First"
   ]
  },
  {
   "cell_type": "code",
   "execution_count": null,
   "id": "6b382dcd",
   "metadata": {},
   "outputs": [],
   "source": [
    "#----------Class\n",
    "class Human:\n",
    "    pass\n",
    "\n",
    "#----------Instance\n",
    "person = Human()\n",
    "print(type(person))"
   ]
  },
  {
   "cell_type": "markdown",
   "id": "eb036f61",
   "metadata": {},
   "source": [
    "## Constructor"
   ]
  },
  {
   "cell_type": "markdown",
   "id": "8b35e1e6",
   "metadata": {},
   "source": [
    "#### No-Input"
   ]
  },
  {
   "cell_type": "code",
   "execution_count": null,
   "id": "852b00fc",
   "metadata": {},
   "outputs": [],
   "source": [
    "#----------Class\n",
    "class Human:\n",
    "    def __init__(self):\n",
    "        self.name = \"Ali\"\n",
    "\n",
    "#----------Instance\n",
    "person = Human()\n",
    "print(person.name)"
   ]
  },
  {
   "cell_type": "markdown",
   "id": "2efce20a",
   "metadata": {},
   "source": [
    "#### Input"
   ]
  },
  {
   "cell_type": "code",
   "execution_count": null,
   "id": "e2de6afc",
   "metadata": {},
   "outputs": [],
   "source": [
    "#----------Class\n",
    "class Human:\n",
    "    def __init__(self, name):\n",
    "        self.name = name\n",
    "\n",
    "#----------Instance\n",
    "person = Human(\"Ali\")\n",
    "print(person.name)"
   ]
  },
  {
   "cell_type": "markdown",
   "id": "5938ff8b",
   "metadata": {},
   "source": [
    "#### Input=None"
   ]
  },
  {
   "cell_type": "code",
   "execution_count": null,
   "id": "fa2ddc76",
   "metadata": {},
   "outputs": [],
   "source": [
    "#----------Class\n",
    "class Human:\n",
    "    def __init__(self, name=None):\n",
    "        self.name = name\n",
    "\n",
    "#----------Instance\n",
    "person = Human()\n",
    "person.name = \"Ali\"\n",
    "print(person.name)"
   ]
  },
  {
   "cell_type": "markdown",
   "id": "396b120e",
   "metadata": {},
   "source": [
    "## Property"
   ]
  },
  {
   "cell_type": "code",
   "execution_count": null,
   "id": "e50fbe3e",
   "metadata": {},
   "outputs": [],
   "source": [
    "#----------Class\n",
    "class Human:\n",
    "\n",
    "    @property\n",
    "    def name(self): return self._name\n",
    "\n",
    "    @name.setter\n",
    "    def name(self, value): \n",
    "        if not value:\n",
    "            raise ValueError(\"Name cannot be empty!\")\n",
    "        self._name = value\n",
    "\n",
    "#----------Instance\n",
    "person = Human()\n",
    "person.name = 'Ali'\n",
    "name = person.name \n",
    "print(name)"
   ]
  },
  {
   "cell_type": "code",
   "execution_count": null,
   "id": "48a0b14f",
   "metadata": {},
   "outputs": [],
   "source": [
    "#----------Class\n",
    "class Human:\n",
    "\n",
    "    @property\n",
    "    def name(self): return self._name\n",
    "\n",
    "    @name.setter\n",
    "    def name(self, value): \n",
    "        if not value:\n",
    "            raise ValueError(\"Name cannot be empty!\")\n",
    "        self._name = value\n",
    "\n",
    "#----------Instance\n",
    "person = Human()\n",
    "person.name = ''"
   ]
  },
  {
   "cell_type": "code",
   "execution_count": 133,
   "id": "290c18dc",
   "metadata": {},
   "outputs": [
    {
     "name": "stdout",
     "output_type": "stream",
     "text": [
      "Reza\n"
     ]
    }
   ],
   "source": [
    "#----------Class\n",
    "class Human:\n",
    "    def __init__(self, name):\n",
    "        self.name = name\n",
    "\n",
    "    @property\n",
    "    def name(self): return self._name\n",
    "\n",
    "    @name.setter\n",
    "    def name(self, value): \n",
    "        if not value:\n",
    "            raise ValueError(\"Name cannot be empty!\")\n",
    "        self._name = value\n",
    "\n",
    "#----------Instance\n",
    "person = Human(\"Ali\")\n",
    "person.name = 'Reza'\n",
    "name = person.name \n",
    "print(name)"
   ]
  },
  {
   "cell_type": "markdown",
   "id": "59b4df35",
   "metadata": {},
   "source": [
    "## Method"
   ]
  },
  {
   "cell_type": "markdown",
   "id": "9f642499",
   "metadata": {},
   "source": [
    "#### General"
   ]
  },
  {
   "cell_type": "code",
   "execution_count": null,
   "id": "267f63c6",
   "metadata": {},
   "outputs": [],
   "source": [
    "#----------Class\n",
    "class Human:\n",
    "    def __init__(self, name):\n",
    "        self.name = name\n",
    "\n",
    "    def speak(self):\n",
    "        return f\"Hi, my name is {self.name}\"\n",
    "\n",
    "#----------Instance\n",
    "person = Human(\"Ali\")\n",
    "print(person.speak())"
   ]
  },
  {
   "cell_type": "markdown",
   "id": "d91fde4d",
   "metadata": {},
   "source": [
    "#### Magic"
   ]
  },
  {
   "cell_type": "code",
   "execution_count": null,
   "id": "0be7495e",
   "metadata": {},
   "outputs": [],
   "source": [
    "#----------Class\n",
    "class Human:\n",
    "    def __init__(self, name):\n",
    "        self.name = name\n",
    "\n",
    "    def __str__(self):\n",
    "        return f\"Human(name='{self.name}'\"\n",
    "\n",
    "#----------Instance\n",
    "person = Human(\"Ali\")\n",
    "print(person)"
   ]
  }
 ],
 "metadata": {
  "kernelspec": {
   "display_name": ".myenv3",
   "language": "python",
   "name": "python3"
  },
  "language_info": {
   "codemirror_mode": {
    "name": "ipython",
    "version": 3
   },
   "file_extension": ".py",
   "mimetype": "text/x-python",
   "name": "python",
   "nbconvert_exporter": "python",
   "pygments_lexer": "ipython3",
   "version": "3.9.6"
  }
 },
 "nbformat": 4,
 "nbformat_minor": 5
}
