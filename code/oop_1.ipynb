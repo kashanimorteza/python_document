{
 "cells": [
  {
   "cell_type": "markdown",
   "id": "b89e67ea-cf7e-4b4d-91d0-2665c81b3194",
   "metadata": {},
   "source": [
    "# Description\n",
    "```\n",
    "Name    : oop_1\n",
    "Subject : OOP\n",
    "Tag     : \n",
    "```"
   ]
  },
  {
   "cell_type": "markdown",
   "id": "3cbaa4c6",
   "metadata": {},
   "source": [
    "# General"
   ]
  },
  {
   "cell_type": "markdown",
   "id": "c6c0edd4",
   "metadata": {},
   "source": [
    "### Import"
   ]
  },
  {
   "cell_type": "code",
   "execution_count": null,
   "id": "d6a41238-1e38-46ee-b5d1-1bdba06526ee",
   "metadata": {},
   "outputs": [],
   "source": []
  },
  {
   "cell_type": "markdown",
   "id": "83d5da01",
   "metadata": {},
   "source": [
    "### Variable"
   ]
  },
  {
   "cell_type": "code",
   "execution_count": 1,
   "id": "2050cb90",
   "metadata": {},
   "outputs": [],
   "source": [
    "root_dir = '/Volumes/data/documents/ai_document'"
   ]
  },
  {
   "cell_type": "markdown",
   "id": "17263923",
   "metadata": {},
   "source": [
    "# Class"
   ]
  },
  {
   "cell_type": "markdown",
   "id": "439106c8",
   "metadata": {},
   "source": [
    "### First"
   ]
  },
  {
   "cell_type": "code",
   "execution_count": 41,
   "id": "6b382dcd",
   "metadata": {},
   "outputs": [],
   "source": [
    "class Human:\n",
    "    pass"
   ]
  },
  {
   "cell_type": "code",
   "execution_count": 42,
   "id": "a9645240",
   "metadata": {},
   "outputs": [
    {
     "name": "stdout",
     "output_type": "stream",
     "text": [
      "<class '__main__.Human'>\n"
     ]
    }
   ],
   "source": [
    "person = Human()\n",
    "print(type(person))"
   ]
  },
  {
   "cell_type": "markdown",
   "id": "eb036f61",
   "metadata": {},
   "source": [
    "### Constructor"
   ]
  },
  {
   "cell_type": "code",
   "execution_count": 43,
   "id": "e2de6afc",
   "metadata": {},
   "outputs": [],
   "source": [
    "class Human:\n",
    "    def __init__(self, name):\n",
    "        self.name = name"
   ]
  },
  {
   "cell_type": "code",
   "execution_count": 44,
   "id": "4111c3aa",
   "metadata": {},
   "outputs": [
    {
     "name": "stdout",
     "output_type": "stream",
     "text": [
      "Ali\n"
     ]
    }
   ],
   "source": [
    "person = Human(\"Ali\")\n",
    "print(person.name)"
   ]
  },
  {
   "cell_type": "markdown",
   "id": "59b4df35",
   "metadata": {},
   "source": [
    "### Method"
   ]
  },
  {
   "cell_type": "markdown",
   "id": "9f642499",
   "metadata": {},
   "source": [
    "#### General"
   ]
  },
  {
   "cell_type": "code",
   "execution_count": 46,
   "id": "20c3ee34",
   "metadata": {},
   "outputs": [],
   "source": [
    "class Human:\n",
    "    def __init__(self, name):\n",
    "        self.name = name\n",
    "\n",
    "    def speak(self):\n",
    "        return f\"Hi, my name is {self.name}\""
   ]
  },
  {
   "cell_type": "code",
   "execution_count": 47,
   "id": "f9783ec3",
   "metadata": {},
   "outputs": [
    {
     "name": "stdout",
     "output_type": "stream",
     "text": [
      "Hi, my name is Ali\n"
     ]
    }
   ],
   "source": [
    "person = Human(\"Ali\")\n",
    "print(person.speak())"
   ]
  },
  {
   "cell_type": "markdown",
   "id": "d91fde4d",
   "metadata": {},
   "source": [
    "#### Magic"
   ]
  },
  {
   "cell_type": "code",
   "execution_count": 48,
   "id": "0be7495e",
   "metadata": {},
   "outputs": [],
   "source": [
    "class Human:\n",
    "    def __init__(self, name):\n",
    "        self.name = name\n",
    "\n",
    "    def __str__(self):\n",
    "        return f\"Human(name='{self.name}'\""
   ]
  },
  {
   "cell_type": "code",
   "execution_count": 49,
   "id": "332da8e6",
   "metadata": {},
   "outputs": [
    {
     "name": "stdout",
     "output_type": "stream",
     "text": [
      "Human(name='Ali'\n"
     ]
    }
   ],
   "source": [
    "person = Human(\"Ali\")\n",
    "print(person)"
   ]
  },
  {
   "cell_type": "markdown",
   "id": "396b120e",
   "metadata": {},
   "source": [
    "### Property"
   ]
  },
  {
   "cell_type": "code",
   "execution_count": 51,
   "id": "e50fbe3e",
   "metadata": {},
   "outputs": [],
   "source": [
    "class Human:\n",
    "\n",
    "    def __init__(self, name=None, age=None):\n",
    "        self._name = name\n",
    "        self._age = age\n",
    "\n",
    "    @property\n",
    "    def name(self): return self._name\n",
    "    @property\n",
    "    def age(self): return self._age\n",
    "\n",
    "    @name.setter\n",
    "    def name(self, value): self._name = value\n",
    "    @age.setter\n",
    "    def age(self, value): self._age = value\n"
   ]
  },
  {
   "cell_type": "code",
   "execution_count": 52,
   "id": "4569e33f",
   "metadata": {},
   "outputs": [
    {
     "name": "stdout",
     "output_type": "stream",
     "text": [
      "Ali\n",
      "25\n"
     ]
    }
   ],
   "source": [
    "person = Human(\"Ali\", 25)\n",
    "name = person.name\n",
    "age = person.age \n",
    "print(name)\n",
    "print(age)"
   ]
  },
  {
   "cell_type": "code",
   "execution_count": 53,
   "id": "1e150076",
   "metadata": {},
   "outputs": [
    {
     "name": "stdout",
     "output_type": "stream",
     "text": [
      "Ali\n",
      "25\n"
     ]
    }
   ],
   "source": [
    "person = Human()\n",
    "person.name = 'Ali'\n",
    "person.age = 25\n",
    "name = person.name\n",
    "age = person.age \n",
    "print(name)\n",
    "print(age)"
   ]
  },
  {
   "cell_type": "code",
   "execution_count": null,
   "id": "4ee88e5d",
   "metadata": {},
   "outputs": [],
   "source": []
  },
  {
   "cell_type": "code",
   "execution_count": null,
   "id": "f844a1d7",
   "metadata": {},
   "outputs": [],
   "source": []
  }
 ],
 "metadata": {
  "kernelspec": {
   "display_name": ".myenv3",
   "language": "python",
   "name": "python3"
  },
  "language_info": {
   "codemirror_mode": {
    "name": "ipython",
    "version": 3
   },
   "file_extension": ".py",
   "mimetype": "text/x-python",
   "name": "python",
   "nbconvert_exporter": "python",
   "pygments_lexer": "ipython3",
   "version": "3.9.6"
  }
 },
 "nbformat": 4,
 "nbformat_minor": 5
}
