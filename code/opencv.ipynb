{
 "cells": [
  {
   "cell_type": "markdown",
   "id": "aUkSOCZ2RMWf",
   "metadata": {
    "id": "aUkSOCZ2RMWf"
   },
   "source": [
    "# AI > OpenCV"
   ]
  },
  {
   "cell_type": "markdown",
   "id": "5SuzrD_weMwU",
   "metadata": {
    "id": "5SuzrD_weMwU"
   },
   "source": [
    "## Description\n",
    "```\n",
    "Number  : 1\n",
    "```"
   ]
  },
  {
   "cell_type": "markdown",
   "id": "GeAaciAHFqK8",
   "metadata": {
    "id": "GeAaciAHFqK8"
   },
   "source": [
    "## Import"
   ]
  },
  {
   "cell_type": "code",
   "execution_count": null,
   "id": "sADY9QIqXsIQ",
   "metadata": {
    "id": "sADY9QIqXsIQ"
   },
   "outputs": [],
   "source": [
    "from numpy import asarray\n",
    "import cv2 as cv\n",
    "from google.colab.patches import cv2_imshow"
   ]
  },
  {
   "cell_type": "markdown",
   "id": "C4M6-Zx8_-GL",
   "metadata": {
    "id": "C4M6-Zx8_-GL"
   },
   "source": [
    "## Version"
   ]
  },
  {
   "cell_type": "code",
   "execution_count": null,
   "id": "f7PKg6eM__om",
   "metadata": {
    "colab": {
     "base_uri": "https://localhost:8080/",
     "height": 35
    },
    "id": "f7PKg6eM__om",
    "outputId": "1e7fb0e8-af7b-4a92-c26d-b43f6fc4d831"
   },
   "outputs": [
    {
     "data": {
      "application/vnd.google.colaboratory.intrinsic+json": {
       "type": "string"
      },
      "text/plain": [
       "'4.12.0'"
      ]
     },
     "execution_count": 18,
     "metadata": {},
     "output_type": "execute_result"
    }
   ],
   "source": [
    "cv.__version__"
   ]
  },
  {
   "cell_type": "markdown",
   "id": "xO2Q4kWBAoNL",
   "metadata": {
    "id": "xO2Q4kWBAoNL"
   },
   "source": [
    "## Read"
   ]
  },
  {
   "cell_type": "code",
   "execution_count": null,
   "id": "GdbmQzkvArFY",
   "metadata": {
    "colab": {
     "base_uri": "https://localhost:8080/"
    },
    "id": "GdbmQzkvArFY",
    "outputId": "8aceadd3-bcb5-4e39-9215-0c5b0d1f1d92"
   },
   "outputs": [
    {
     "name": "stdout",
     "output_type": "stream",
     "text": [
      "uint8\n",
      "(567, 850, 3)\n"
     ]
    }
   ],
   "source": [
    "img = cv.imread('001.jpg')\n",
    "print(img.dtype)\n",
    "print(img.shape)\n",
    "print(img)"
   ]
  },
  {
   "cell_type": "markdown",
   "id": "9Jhub41XDSF1",
   "metadata": {
    "id": "9Jhub41XDSF1"
   },
   "source": [
    "## Display"
   ]
  },
  {
   "cell_type": "code",
   "execution_count": null,
   "id": "RzLNuf6zDRy9",
   "metadata": {
    "colab": {
     "base_uri": "https://localhost:8080/",
     "height": 375
    },
    "collapsed": true,
    "id": "RzLNuf6zDRy9",
    "jupyter": {
     "outputs_hidden": true
    },
    "outputId": "a83388c2-bf77-4dbd-8fe3-c00d448a57a7"
   },
   "outputs": [
    {
     "ename": "DisabledFunctionError",
     "errorDetails": {
      "actions": [
       {
        "action": "open_snippet",
        "actionText": "Search Snippets for cv2.imshow",
        "snippetFilter": "cv2.imshow"
       }
      ]
     },
     "evalue": "cv2.imshow() is disabled in Colab, because it causes Jupyter sessions\nto crash; see https://github.com/jupyter/notebook/issues/3935.\nAs a substitution, consider using\n  from google.colab.patches import cv2_imshow\n",
     "output_type": "error",
     "traceback": [
      "\u001b[0;31m---------------------------------------------------------------------------\u001b[0m",
      "\u001b[0;31mDisabledFunctionError\u001b[0m                     Traceback (most recent call last)",
      "\u001b[0;32m/tmp/ipython-input-2892404328.py\u001b[0m in \u001b[0;36m<cell line: 0>\u001b[0;34m()\u001b[0m\n\u001b[0;32m----> 1\u001b[0;31m \u001b[0mcv\u001b[0m\u001b[0;34m.\u001b[0m\u001b[0mimshow\u001b[0m\u001b[0;34m(\u001b[0m\u001b[0;34m'image'\u001b[0m\u001b[0;34m,\u001b[0m \u001b[0mimg2\u001b[0m\u001b[0;34m)\u001b[0m\u001b[0;34m\u001b[0m\u001b[0;34m\u001b[0m\u001b[0m\n\u001b[0m\u001b[1;32m      2\u001b[0m \u001b[0mcv\u001b[0m\u001b[0;34m.\u001b[0m\u001b[0mwaitKey\u001b[0m\u001b[0;34m(\u001b[0m\u001b[0;36m0\u001b[0m\u001b[0;34m)\u001b[0m\u001b[0;34m\u001b[0m\u001b[0;34m\u001b[0m\u001b[0m\n",
      "\u001b[0;32m/usr/local/lib/python3.12/dist-packages/google/colab/_import_hooks/_cv2.py\u001b[0m in \u001b[0;36mwrapped\u001b[0;34m(*args, **kwargs)\u001b[0m\n\u001b[1;32m     48\u001b[0m   \u001b[0;32mdef\u001b[0m \u001b[0mwrapped\u001b[0m\u001b[0;34m(\u001b[0m\u001b[0;34m*\u001b[0m\u001b[0margs\u001b[0m\u001b[0;34m,\u001b[0m \u001b[0;34m**\u001b[0m\u001b[0mkwargs\u001b[0m\u001b[0;34m)\u001b[0m\u001b[0;34m:\u001b[0m\u001b[0;34m\u001b[0m\u001b[0;34m\u001b[0m\u001b[0m\n\u001b[1;32m     49\u001b[0m     \u001b[0;32mif\u001b[0m \u001b[0;32mnot\u001b[0m \u001b[0mos\u001b[0m\u001b[0;34m.\u001b[0m\u001b[0menviron\u001b[0m\u001b[0;34m.\u001b[0m\u001b[0mget\u001b[0m\u001b[0;34m(\u001b[0m\u001b[0menv_var\u001b[0m\u001b[0;34m,\u001b[0m \u001b[0;32mFalse\u001b[0m\u001b[0;34m)\u001b[0m\u001b[0;34m:\u001b[0m\u001b[0;34m\u001b[0m\u001b[0;34m\u001b[0m\u001b[0m\n\u001b[0;32m---> 50\u001b[0;31m       \u001b[0;32mraise\u001b[0m \u001b[0mDisabledFunctionError\u001b[0m\u001b[0;34m(\u001b[0m\u001b[0mmessage\u001b[0m\u001b[0;34m,\u001b[0m \u001b[0mname\u001b[0m \u001b[0;32mor\u001b[0m \u001b[0mfunc\u001b[0m\u001b[0;34m.\u001b[0m\u001b[0m__name__\u001b[0m\u001b[0;34m)\u001b[0m\u001b[0;34m\u001b[0m\u001b[0;34m\u001b[0m\u001b[0m\n\u001b[0m\u001b[1;32m     51\u001b[0m     \u001b[0;32mreturn\u001b[0m \u001b[0mfunc\u001b[0m\u001b[0;34m(\u001b[0m\u001b[0;34m*\u001b[0m\u001b[0margs\u001b[0m\u001b[0;34m,\u001b[0m \u001b[0;34m**\u001b[0m\u001b[0mkwargs\u001b[0m\u001b[0;34m)\u001b[0m\u001b[0;34m\u001b[0m\u001b[0;34m\u001b[0m\u001b[0m\n\u001b[1;32m     52\u001b[0m \u001b[0;34m\u001b[0m\u001b[0m\n",
      "\u001b[0;31mDisabledFunctionError\u001b[0m: cv2.imshow() is disabled in Colab, because it causes Jupyter sessions\nto crash; see https://github.com/jupyter/notebook/issues/3935.\nAs a substitution, consider using\n  from google.colab.patches import cv2_imshow\n"
     ]
    }
   ],
   "source": [
    "cv.imshow('image', img)\n",
    "cv.waitKey(0)\n",
    "cv.destroyAllWindows('image')"
   ]
  },
  {
   "cell_type": "markdown",
   "id": "7oPpa6IxLahR",
   "metadata": {
    "id": "7oPpa6IxLahR"
   },
   "source": [
    "## Split"
   ]
  },
  {
   "cell_type": "code",
   "execution_count": null,
   "id": "Osr8YufgLaAN",
   "metadata": {
    "id": "Osr8YufgLaAN"
   },
   "outputs": [],
   "source": [
    "img_split = img[100:200, 100:500]\n",
    "cv.imshow('image', img_split)\n",
    "cv.waitKey(0)\n",
    "cv.destroyAllWindows('image')"
   ]
  },
  {
   "cell_type": "markdown",
   "id": "y8aEoMztJMNT",
   "metadata": {
    "id": "y8aEoMztJMNT"
   },
   "source": [
    "## Change color layer"
   ]
  },
  {
   "cell_type": "code",
   "execution_count": null,
   "id": "vmz5sWeTJMAr",
   "metadata": {
    "colab": {
     "base_uri": "https://localhost:8080/",
     "height": 393
    },
    "collapsed": true,
    "id": "vmz5sWeTJMAr",
    "jupyter": {
     "outputs_hidden": true
    },
    "outputId": "5d4e5b05-68c3-4710-f3ae-eb5bf70f2d12"
   },
   "outputs": [
    {
     "ename": "DisabledFunctionError",
     "errorDetails": {
      "actions": [
       {
        "action": "open_snippet",
        "actionText": "Search Snippets for cv2.imshow",
        "snippetFilter": "cv2.imshow"
       }
      ]
     },
     "evalue": "cv2.imshow() is disabled in Colab, because it causes Jupyter sessions\nto crash; see https://github.com/jupyter/notebook/issues/3935.\nAs a substitution, consider using\n  from google.colab.patches import cv2_imshow\n",
     "output_type": "error",
     "traceback": [
      "\u001b[0;31m---------------------------------------------------------------------------\u001b[0m",
      "\u001b[0;31mDisabledFunctionError\u001b[0m                     Traceback (most recent call last)",
      "\u001b[0;32m/tmp/ipython-input-2223653405.py\u001b[0m in \u001b[0;36m<cell line: 0>\u001b[0;34m()\u001b[0m\n\u001b[1;32m      1\u001b[0m \u001b[0mimg3\u001b[0m \u001b[0;34m=\u001b[0m \u001b[0mcv\u001b[0m\u001b[0;34m.\u001b[0m\u001b[0mcvtColor\u001b[0m\u001b[0;34m(\u001b[0m\u001b[0mimg\u001b[0m\u001b[0;34m,\u001b[0m \u001b[0mcv\u001b[0m\u001b[0;34m.\u001b[0m\u001b[0mCOLOR_BGR2RGB\u001b[0m\u001b[0;34m)\u001b[0m\u001b[0;34m\u001b[0m\u001b[0;34m\u001b[0m\u001b[0m\n\u001b[0;32m----> 2\u001b[0;31m \u001b[0mcv\u001b[0m\u001b[0;34m.\u001b[0m\u001b[0mimshow\u001b[0m\u001b[0;34m(\u001b[0m\u001b[0;34m'image'\u001b[0m\u001b[0;34m,\u001b[0m \u001b[0mimg3\u001b[0m\u001b[0;34m)\u001b[0m\u001b[0;34m\u001b[0m\u001b[0;34m\u001b[0m\u001b[0m\n\u001b[0m\u001b[1;32m      3\u001b[0m \u001b[0mcv\u001b[0m\u001b[0;34m.\u001b[0m\u001b[0mwaitKey\u001b[0m\u001b[0;34m(\u001b[0m\u001b[0;36m0\u001b[0m\u001b[0;34m)\u001b[0m\u001b[0;34m\u001b[0m\u001b[0;34m\u001b[0m\u001b[0m\n",
      "\u001b[0;32m/usr/local/lib/python3.12/dist-packages/google/colab/_import_hooks/_cv2.py\u001b[0m in \u001b[0;36mwrapped\u001b[0;34m(*args, **kwargs)\u001b[0m\n\u001b[1;32m     48\u001b[0m   \u001b[0;32mdef\u001b[0m \u001b[0mwrapped\u001b[0m\u001b[0;34m(\u001b[0m\u001b[0;34m*\u001b[0m\u001b[0margs\u001b[0m\u001b[0;34m,\u001b[0m \u001b[0;34m**\u001b[0m\u001b[0mkwargs\u001b[0m\u001b[0;34m)\u001b[0m\u001b[0;34m:\u001b[0m\u001b[0;34m\u001b[0m\u001b[0;34m\u001b[0m\u001b[0m\n\u001b[1;32m     49\u001b[0m     \u001b[0;32mif\u001b[0m \u001b[0;32mnot\u001b[0m \u001b[0mos\u001b[0m\u001b[0;34m.\u001b[0m\u001b[0menviron\u001b[0m\u001b[0;34m.\u001b[0m\u001b[0mget\u001b[0m\u001b[0;34m(\u001b[0m\u001b[0menv_var\u001b[0m\u001b[0;34m,\u001b[0m \u001b[0;32mFalse\u001b[0m\u001b[0;34m)\u001b[0m\u001b[0;34m:\u001b[0m\u001b[0;34m\u001b[0m\u001b[0;34m\u001b[0m\u001b[0m\n\u001b[0;32m---> 50\u001b[0;31m       \u001b[0;32mraise\u001b[0m \u001b[0mDisabledFunctionError\u001b[0m\u001b[0;34m(\u001b[0m\u001b[0mmessage\u001b[0m\u001b[0;34m,\u001b[0m \u001b[0mname\u001b[0m \u001b[0;32mor\u001b[0m \u001b[0mfunc\u001b[0m\u001b[0;34m.\u001b[0m\u001b[0m__name__\u001b[0m\u001b[0;34m)\u001b[0m\u001b[0;34m\u001b[0m\u001b[0;34m\u001b[0m\u001b[0m\n\u001b[0m\u001b[1;32m     51\u001b[0m     \u001b[0;32mreturn\u001b[0m \u001b[0mfunc\u001b[0m\u001b[0;34m(\u001b[0m\u001b[0;34m*\u001b[0m\u001b[0margs\u001b[0m\u001b[0;34m,\u001b[0m \u001b[0;34m**\u001b[0m\u001b[0mkwargs\u001b[0m\u001b[0;34m)\u001b[0m\u001b[0;34m\u001b[0m\u001b[0;34m\u001b[0m\u001b[0m\n\u001b[1;32m     52\u001b[0m \u001b[0;34m\u001b[0m\u001b[0m\n",
      "\u001b[0;31mDisabledFunctionError\u001b[0m: cv2.imshow() is disabled in Colab, because it causes Jupyter sessions\nto crash; see https://github.com/jupyter/notebook/issues/3935.\nAs a substitution, consider using\n  from google.colab.patches import cv2_imshow\n"
     ]
    }
   ],
   "source": [
    "img_change = cv.cvtColor(img, cv.COLOR_BGR2RGB)\n",
    "cv.imshow('image', img_change)\n",
    "cv.waitKey(0)\n",
    "cv.destroyAllWindows('image')"
   ]
  },
  {
   "cell_type": "markdown",
   "id": "jfbDa6f0Jd-F",
   "metadata": {
    "id": "jfbDa6f0Jd-F"
   },
   "source": [
    "## Change to gray"
   ]
  },
  {
   "cell_type": "code",
   "execution_count": null,
   "id": "-n0bDGl0Jfzh",
   "metadata": {
    "id": "-n0bDGl0Jfzh"
   },
   "outputs": [],
   "source": [
    "img_gray = cv.cvtColor(img, cv.COLOR_BGR2GRAY)\n",
    "cv.imshow('image', img_gray)\n",
    "cv.waitKey(0)\n",
    "cv.destroyAllWindows('image')"
   ]
  },
  {
   "cell_type": "markdown",
   "id": "AKJvT_ehJ5aq",
   "metadata": {
    "id": "AKJvT_ehJ5aq"
   },
   "source": [
    "## Split blue layer"
   ]
  },
  {
   "cell_type": "code",
   "execution_count": null,
   "id": "JqD2hv7xJ75s",
   "metadata": {
    "id": "JqD2hv7xJ75s"
   },
   "outputs": [],
   "source": [
    "blue_layer = img[:, :, 0]\n",
    "cv.imshow('image', blue_layer)\n",
    "cv.waitKey(0)\n",
    "cv.destroyAllWindows('image')"
   ]
  },
  {
   "cell_type": "markdown",
   "id": "FsWBEaLBMF7D",
   "metadata": {
    "id": "FsWBEaLBMF7D"
   },
   "source": [
    "## Write"
   ]
  },
  {
   "cell_type": "code",
   "execution_count": null,
   "id": "PD0QCzJgMp9l",
   "metadata": {
    "id": "PD0QCzJgMp9l"
   },
   "outputs": [],
   "source": [
    "cv.imwrite('convert_to_png.jpg', img)"
   ]
  },
  {
   "cell_type": "markdown",
   "id": "HwgrY-gDb5_J",
   "metadata": {
    "id": "HwgrY-gDb5_J"
   },
   "source": [
    "## Line"
   ]
  },
  {
   "cell_type": "code",
   "execution_count": null,
   "id": "ua35wWlVb7IY",
   "metadata": {
    "id": "ua35wWlVb7IY"
   },
   "outputs": [],
   "source": [
    "cv.line(img, (10, 40), (100,100), (255,0,0), 3)\n",
    "cv.imshow('image', img)\n",
    "cv.waitKey(0)\n",
    "cv.destroyAllWindows()"
   ]
  },
  {
   "cell_type": "markdown",
   "id": "0ufxhfQ5dJLI",
   "metadata": {
    "id": "0ufxhfQ5dJLI"
   },
   "source": [
    "## Rectangle"
   ]
  },
  {
   "cell_type": "code",
   "execution_count": null,
   "id": "yXCxElSidSDU",
   "metadata": {
    "id": "yXCxElSidSDU"
   },
   "outputs": [],
   "source": [
    "cv.rectangle(img, (10, 40), (100,100), (255,0,0), 3)\n",
    "cv.imshow('image', img)\n",
    "cv.waitKey(0)\n",
    "cv.destroyAllWindows()"
   ]
  },
  {
   "cell_type": "markdown",
   "id": "6rWONbopdk8Q",
   "metadata": {
    "id": "6rWONbopdk8Q"
   },
   "source": [
    "## Circle"
   ]
  },
  {
   "cell_type": "code",
   "execution_count": null,
   "id": "WCMrp-YidmZz",
   "metadata": {
    "id": "WCMrp-YidmZz"
   },
   "outputs": [],
   "source": [
    "cv.circle(img, (100, 200), 50, (255,0,0), 1)\n",
    "cv.circle(img, (300, 400), 50, (255,0,0), -1)\n",
    "cv.imshow('image', img)\n",
    "cv.waitKey(0)\n",
    "cv.destroyAllWindows()"
   ]
  },
  {
   "cell_type": "markdown",
   "id": "zK4pZyr7edHp",
   "metadata": {
    "id": "zK4pZyr7edHp"
   },
   "source": [
    "## Text"
   ]
  },
  {
   "cell_type": "code",
   "execution_count": null,
   "id": "VMDBxwlQeeDr",
   "metadata": {
    "id": "VMDBxwlQeeDr"
   },
   "outputs": [],
   "source": [
    "cv.putText(img, 'Hello OpenCV', (100,100), cv.FONT_HERSHEY_SIMPLEX, 1, (0,255,0), 2)\n",
    "cv.imshow('image', img)\n",
    "cv.waitKey(0)\n",
    "cv.destroyAllWindows()"
   ]
  },
  {
   "cell_type": "markdown",
   "id": "rlhRAjXpfLkB",
   "metadata": {
    "id": "rlhRAjXpfLkB"
   },
   "source": [
    "## Video"
   ]
  },
  {
   "cell_type": "code",
   "execution_count": null,
   "id": "ianntjfwfNE8",
   "metadata": {
    "id": "ianntjfwfNE8"
   },
   "outputs": [],
   "source": [
    "cap = cv.VideoCapture('/Volumes/data/documents/ai_document/file/video/001.mp4')"
   ]
  },
  {
   "cell_type": "code",
   "execution_count": null,
   "id": "LHF_nfn2fQ2Q",
   "metadata": {
    "id": "LHF_nfn2fQ2Q"
   },
   "outputs": [],
   "source": [
    "while(cap.isOpened()):\n",
    "    ret, frame = cap.read()\n",
    "    if ret == True:\n",
    "        gray = cv.cvtColor(frame, cv.COLOR_BGR2GRAY)\n",
    "        cv.imshow('frame', gray)\n",
    "        if cv.waitKey(1) & 0xFF == ord('q'):\n",
    "            break\n",
    "        cv.waitKey(60)\n",
    "    else:\n",
    "        break"
   ]
  }
 ],
 "metadata": {
  "colab": {
   "provenance": [],
   "toc_visible": true
  },
  "kernelspec": {
   "display_name": "Python 3 (ipykernel)",
   "language": "python",
   "name": "python3"
  },
  "language_info": {
   "codemirror_mode": {
    "name": "ipython",
    "version": 3
   },
   "file_extension": ".py",
   "mimetype": "text/x-python",
   "name": "python",
   "nbconvert_exporter": "python",
   "pygments_lexer": "ipython3",
   "version": "3.9.6"
  }
 },
 "nbformat": 4,
 "nbformat_minor": 5
}
